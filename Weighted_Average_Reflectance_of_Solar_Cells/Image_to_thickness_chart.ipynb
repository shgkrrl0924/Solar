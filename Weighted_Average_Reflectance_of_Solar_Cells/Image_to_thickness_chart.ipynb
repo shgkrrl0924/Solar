{
 "cells": [
  {
   "cell_type": "markdown",
   "metadata": {},
   "source": [
    "## Color chart Excel파일로 만들기"
   ]
  },
  {
   "cell_type": "code",
   "execution_count": 2,
   "metadata": {},
   "outputs": [],
   "source": [
    "import pandas as pd\n",
    "import numpy as np\n",
    "import matplotlib.pyplot as plt\n",
    "import seaborn as sns\n",
    "\n",
    "from PIL import Image"
   ]
  },
  {
   "cell_type": "code",
   "execution_count": 4,
   "metadata": {},
   "outputs": [
    {
     "name": "stdout",
     "output_type": "stream",
     "text": [
      "[[[246 246 246 255]\n",
      "  [255 255 255 255]\n",
      "  [255 255 255 255]\n",
      "  ...\n",
      "  [248 255 253 255]\n",
      "  [252 254 253 255]\n",
      "  [254 254 254 255]]\n",
      "\n",
      " [[201 201 201 255]\n",
      "  [255 255 255 255]\n",
      "  [255 255 255 255]\n",
      "  ...\n",
      "  [230 254 251 255]\n",
      "  [235 254 253 255]\n",
      "  [239 254 254 255]]\n",
      "\n",
      " [[179 179 179 255]\n",
      "  [255 255 255 255]\n",
      "  [255 255 255 255]\n",
      "  ...\n",
      "  [217 254 252 255]\n",
      "  [221 254 254 255]\n",
      "  [225 254 254 255]]\n",
      "\n",
      " ...\n",
      "\n",
      " [[ 65  64  70 255]\n",
      "  [ 50  48  54 255]\n",
      "  [ 52  51  55 255]\n",
      "  ...\n",
      "  [ 35  43  46 255]\n",
      "  [ 36  44  46 255]\n",
      "  [ 37  43  45 255]]\n",
      "\n",
      " [[ 65  64  70 255]\n",
      "  [ 49  49  53 255]\n",
      "  [ 51  50  54 255]\n",
      "  ...\n",
      "  [ 35  43  46 255]\n",
      "  [ 35  43  45 255]\n",
      "  [ 36  43  45 255]]\n",
      "\n",
      " [[ 65  64  70 255]\n",
      "  [ 49  48  52 255]\n",
      "  [ 50  50  52 255]\n",
      "  ...\n",
      "  [ 34  42  45 255]\n",
      "  [ 34  42  44 255]\n",
      "  [ 35  42  44 255]]]\n",
      "(265, 334, 4)\n"
     ]
    }
   ],
   "source": [
    "img = Image.open('solar.png')\n",
    "img.show()\n",
    "\n",
    "\n",
    "\n",
    "x = np.array(img)\n",
    "print(x)\n",
    "print(x.shape)\n"
   ]
  },
  {
   "cell_type": "code",
   "execution_count": 46,
   "metadata": {},
   "outputs": [],
   "source": [
    "#png 파일은 알파채널(투명도)을 따로 저장\n",
    "\n",
    "rgb = x[:,:,:3]"
   ]
  },
  {
   "cell_type": "code",
   "execution_count": 54,
   "metadata": {},
   "outputs": [],
   "source": [
    "rgb = np.array(img.convert(\"RGB\"))"
   ]
  },
  {
   "cell_type": "code",
   "execution_count": 56,
   "metadata": {},
   "outputs": [
    {
     "data": {
      "text/plain": [
       "(265, 334, 3)"
      ]
     },
     "execution_count": 56,
     "metadata": {},
     "output_type": "execute_result"
    }
   ],
   "source": [
    "rgb.shape"
   ]
  },
  {
   "cell_type": "code",
   "execution_count": null,
   "metadata": {},
   "outputs": [],
   "source": []
  }
 ],
 "metadata": {
  "kernelspec": {
   "display_name": "base",
   "language": "python",
   "name": "python3"
  },
  "language_info": {
   "codemirror_mode": {
    "name": "ipython",
    "version": 3
   },
   "file_extension": ".py",
   "mimetype": "text/x-python",
   "name": "python",
   "nbconvert_exporter": "python",
   "pygments_lexer": "ipython3",
   "version": "3.9.7"
  },
  "orig_nbformat": 4
 },
 "nbformat": 4,
 "nbformat_minor": 2
}
