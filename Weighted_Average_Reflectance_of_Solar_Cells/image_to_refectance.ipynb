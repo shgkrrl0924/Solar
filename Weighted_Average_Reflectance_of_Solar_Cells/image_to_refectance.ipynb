{
 "cells": [
  {
   "attachments": {},
   "cell_type": "markdown",
   "metadata": {},
   "source": [
    "## 가중평균반사도 예측모형\n",
    "\n",
    "- 이미지 픽셀 값 -> 반사도를 predict 하는 모델 구축"
   ]
  },
  {
   "attachments": {},
   "cell_type": "markdown",
   "metadata": {},
   "source": [
    "### 데이터 전처리 부분"
   ]
  },
  {
   "cell_type": "code",
   "execution_count": 1,
   "metadata": {},
   "outputs": [],
   "source": [
    "import pandas as pd\n",
    "import numpy as np\n",
    "import matplotlib.pyplot as plt"
   ]
  },
  {
   "cell_type": "code",
   "execution_count": 2,
   "metadata": {},
   "outputs": [
    {
     "name": "stdout",
     "output_type": "stream",
     "text": [
      "<class 'pandas.core.frame.DataFrame'>\n",
      "RangeIndex: 32 entries, 0 to 31\n",
      "Data columns (total 5 columns):\n",
      " #   Column     Non-Null Count  Dtype  \n",
      "---  ------     --------------  -----  \n",
      " 0   R          32 non-null     int64  \n",
      " 1   G          32 non-null     int64  \n",
      " 2   B          32 non-null     int64  \n",
      " 3   R_I        32 non-null     object \n",
      " 4   Thickness  32 non-null     float64\n",
      "dtypes: float64(1), int64(3), object(1)\n",
      "memory usage: 1.4+ KB\n"
     ]
    }
   ],
   "source": [
    "df = pd.read_csv(\"Solar.csv\",header=0).iloc[:,:5]\n",
    "df.info()"
   ]
  },
  {
   "cell_type": "code",
   "execution_count": 12,
   "metadata": {},
   "outputs": [
    {
     "data": {
      "text/html": [
       "<div>\n",
       "<style scoped>\n",
       "    .dataframe tbody tr th:only-of-type {\n",
       "        vertical-align: middle;\n",
       "    }\n",
       "\n",
       "    .dataframe tbody tr th {\n",
       "        vertical-align: top;\n",
       "    }\n",
       "\n",
       "    .dataframe thead th {\n",
       "        text-align: right;\n",
       "    }\n",
       "</style>\n",
       "<table border=\"1\" class=\"dataframe\">\n",
       "  <thead>\n",
       "    <tr style=\"text-align: right;\">\n",
       "      <th></th>\n",
       "      <th>R</th>\n",
       "      <th>G</th>\n",
       "      <th>B</th>\n",
       "      <th>R_I</th>\n",
       "      <th>Thickness</th>\n",
       "    </tr>\n",
       "  </thead>\n",
       "  <tbody>\n",
       "    <tr>\n",
       "      <th>0</th>\n",
       "      <td>25</td>\n",
       "      <td>31</td>\n",
       "      <td>53</td>\n",
       "      <td>1.947</td>\n",
       "      <td>73.1</td>\n",
       "    </tr>\n",
       "    <tr>\n",
       "      <th>1</th>\n",
       "      <td>6</td>\n",
       "      <td>12</td>\n",
       "      <td>40</td>\n",
       "      <td>1.946</td>\n",
       "      <td>73.2</td>\n",
       "    </tr>\n",
       "    <tr>\n",
       "      <th>2</th>\n",
       "      <td>9</td>\n",
       "      <td>14</td>\n",
       "      <td>20</td>\n",
       "      <td>1.949</td>\n",
       "      <td>72.5</td>\n",
       "    </tr>\n",
       "    <tr>\n",
       "      <th>3</th>\n",
       "      <td>3</td>\n",
       "      <td>7</td>\n",
       "      <td>36</td>\n",
       "      <td>1.948</td>\n",
       "      <td>73.9</td>\n",
       "    </tr>\n",
       "    <tr>\n",
       "      <th>4</th>\n",
       "      <td>15</td>\n",
       "      <td>21</td>\n",
       "      <td>55</td>\n",
       "      <td>1.965</td>\n",
       "      <td>74.2</td>\n",
       "    </tr>\n",
       "  </tbody>\n",
       "</table>\n",
       "</div>"
      ],
      "text/plain": [
       "    R   G   B    R_I  Thickness\n",
       "0  25  31  53  1.947       73.1\n",
       "1   6  12  40  1.946       73.2\n",
       "2   9  14  20  1.949       72.5\n",
       "3   3   7  36  1.948       73.9\n",
       "4  15  21  55  1.965       74.2"
      ]
     },
     "execution_count": 12,
     "metadata": {},
     "output_type": "execute_result"
    }
   ],
   "source": [
    "df.head()"
   ]
  },
  {
   "cell_type": "code",
   "execution_count": 4,
   "metadata": {},
   "outputs": [],
   "source": [
    "df.R_I = df.R_I.str.replace(\",\",\".\").astype(float)"
   ]
  },
  {
   "cell_type": "code",
   "execution_count": 41,
   "metadata": {},
   "outputs": [
    {
     "data": {
      "text/html": [
       "<div>\n",
       "<style scoped>\n",
       "    .dataframe tbody tr th:only-of-type {\n",
       "        vertical-align: middle;\n",
       "    }\n",
       "\n",
       "    .dataframe tbody tr th {\n",
       "        vertical-align: top;\n",
       "    }\n",
       "\n",
       "    .dataframe thead th {\n",
       "        text-align: right;\n",
       "    }\n",
       "</style>\n",
       "<table border=\"1\" class=\"dataframe\">\n",
       "  <thead>\n",
       "    <tr style=\"text-align: right;\">\n",
       "      <th></th>\n",
       "      <th>1200</th>\n",
       "      <th>1195</th>\n",
       "      <th>1190</th>\n",
       "      <th>1185</th>\n",
       "      <th>1180</th>\n",
       "      <th>1175</th>\n",
       "      <th>1170</th>\n",
       "      <th>1165</th>\n",
       "      <th>1160</th>\n",
       "      <th>1155</th>\n",
       "      <th>...</th>\n",
       "      <th>345</th>\n",
       "      <th>340</th>\n",
       "      <th>335</th>\n",
       "      <th>330</th>\n",
       "      <th>325</th>\n",
       "      <th>320</th>\n",
       "      <th>315</th>\n",
       "      <th>310</th>\n",
       "      <th>305</th>\n",
       "      <th>300</th>\n",
       "    </tr>\n",
       "  </thead>\n",
       "  <tbody>\n",
       "    <tr>\n",
       "      <th>0</th>\n",
       "      <td>96.6331</td>\n",
       "      <td>96.5916</td>\n",
       "      <td>96.4845</td>\n",
       "      <td>96.2623</td>\n",
       "      <td>95.8907</td>\n",
       "      <td>95.3450</td>\n",
       "      <td>94.6298</td>\n",
       "      <td>93.7546</td>\n",
       "      <td>92.7405</td>\n",
       "      <td>91.5877</td>\n",
       "      <td>...</td>\n",
       "      <td>56.3231</td>\n",
       "      <td>55.9099</td>\n",
       "      <td>55.8171</td>\n",
       "      <td>55.6715</td>\n",
       "      <td>55.4601</td>\n",
       "      <td>55.1395</td>\n",
       "      <td>54.6931</td>\n",
       "      <td>54.1511</td>\n",
       "      <td>53.5249</td>\n",
       "      <td>52.8991</td>\n",
       "    </tr>\n",
       "    <tr>\n",
       "      <th>1</th>\n",
       "      <td>92.4867</td>\n",
       "      <td>92.4547</td>\n",
       "      <td>92.3593</td>\n",
       "      <td>92.1557</td>\n",
       "      <td>91.8202</td>\n",
       "      <td>91.3254</td>\n",
       "      <td>90.6806</td>\n",
       "      <td>89.8845</td>\n",
       "      <td>88.9556</td>\n",
       "      <td>87.8934</td>\n",
       "      <td>...</td>\n",
       "      <td>56.7971</td>\n",
       "      <td>56.5143</td>\n",
       "      <td>56.4169</td>\n",
       "      <td>56.2839</td>\n",
       "      <td>56.0708</td>\n",
       "      <td>55.7749</td>\n",
       "      <td>55.3640</td>\n",
       "      <td>54.8170</td>\n",
       "      <td>54.2150</td>\n",
       "      <td>53.6033</td>\n",
       "    </tr>\n",
       "    <tr>\n",
       "      <th>2</th>\n",
       "      <td>96.9970</td>\n",
       "      <td>96.9578</td>\n",
       "      <td>96.8509</td>\n",
       "      <td>96.6398</td>\n",
       "      <td>96.2781</td>\n",
       "      <td>95.7467</td>\n",
       "      <td>95.0391</td>\n",
       "      <td>94.1767</td>\n",
       "      <td>93.1700</td>\n",
       "      <td>92.0249</td>\n",
       "      <td>...</td>\n",
       "      <td>56.3937</td>\n",
       "      <td>56.2287</td>\n",
       "      <td>56.2186</td>\n",
       "      <td>56.1558</td>\n",
       "      <td>56.0490</td>\n",
       "      <td>55.8406</td>\n",
       "      <td>55.5234</td>\n",
       "      <td>55.0830</td>\n",
       "      <td>54.6321</td>\n",
       "      <td>54.1589</td>\n",
       "    </tr>\n",
       "    <tr>\n",
       "      <th>3</th>\n",
       "      <td>96.7672</td>\n",
       "      <td>96.7216</td>\n",
       "      <td>96.6133</td>\n",
       "      <td>96.3942</td>\n",
       "      <td>96.0234</td>\n",
       "      <td>95.4852</td>\n",
       "      <td>94.7694</td>\n",
       "      <td>93.8971</td>\n",
       "      <td>92.8864</td>\n",
       "      <td>91.7317</td>\n",
       "      <td>...</td>\n",
       "      <td>56.3366</td>\n",
       "      <td>55.9816</td>\n",
       "      <td>55.9209</td>\n",
       "      <td>55.8066</td>\n",
       "      <td>55.6147</td>\n",
       "      <td>55.3500</td>\n",
       "      <td>54.9550</td>\n",
       "      <td>54.4818</td>\n",
       "      <td>53.9408</td>\n",
       "      <td>53.3935</td>\n",
       "    </tr>\n",
       "    <tr>\n",
       "      <th>4</th>\n",
       "      <td>97.2375</td>\n",
       "      <td>97.1881</td>\n",
       "      <td>97.0759</td>\n",
       "      <td>96.8496</td>\n",
       "      <td>96.4741</td>\n",
       "      <td>95.9199</td>\n",
       "      <td>95.1903</td>\n",
       "      <td>94.2958</td>\n",
       "      <td>93.2626</td>\n",
       "      <td>92.0902</td>\n",
       "      <td>...</td>\n",
       "      <td>56.4141</td>\n",
       "      <td>55.8102</td>\n",
       "      <td>55.4447</td>\n",
       "      <td>55.0348</td>\n",
       "      <td>54.5248</td>\n",
       "      <td>53.8755</td>\n",
       "      <td>53.1101</td>\n",
       "      <td>52.1799</td>\n",
       "      <td>51.1362</td>\n",
       "      <td>49.9881</td>\n",
       "    </tr>\n",
       "  </tbody>\n",
       "</table>\n",
       "<p>5 rows × 181 columns</p>\n",
       "</div>"
      ],
      "text/plain": [
       "      1200     1195     1190     1185     1180     1175     1170     1165  \\\n",
       "0  96.6331  96.5916  96.4845  96.2623  95.8907  95.3450  94.6298  93.7546   \n",
       "1  92.4867  92.4547  92.3593  92.1557  91.8202  91.3254  90.6806  89.8845   \n",
       "2  96.9970  96.9578  96.8509  96.6398  96.2781  95.7467  95.0391  94.1767   \n",
       "3  96.7672  96.7216  96.6133  96.3942  96.0234  95.4852  94.7694  93.8971   \n",
       "4  97.2375  97.1881  97.0759  96.8496  96.4741  95.9199  95.1903  94.2958   \n",
       "\n",
       "      1160     1155  ...      345      340      335      330      325  \\\n",
       "0  92.7405  91.5877  ...  56.3231  55.9099  55.8171  55.6715  55.4601   \n",
       "1  88.9556  87.8934  ...  56.7971  56.5143  56.4169  56.2839  56.0708   \n",
       "2  93.1700  92.0249  ...  56.3937  56.2287  56.2186  56.1558  56.0490   \n",
       "3  92.8864  91.7317  ...  56.3366  55.9816  55.9209  55.8066  55.6147   \n",
       "4  93.2626  92.0902  ...  56.4141  55.8102  55.4447  55.0348  54.5248   \n",
       "\n",
       "       320      315      310      305      300  \n",
       "0  55.1395  54.6931  54.1511  53.5249  52.8991  \n",
       "1  55.7749  55.3640  54.8170  54.2150  53.6033  \n",
       "2  55.8406  55.5234  55.0830  54.6321  54.1589  \n",
       "3  55.3500  54.9550  54.4818  53.9408  53.3935  \n",
       "4  53.8755  53.1101  52.1799  51.1362  49.9881  \n",
       "\n",
       "[5 rows x 181 columns]"
      ]
     },
     "execution_count": 41,
     "metadata": {},
     "output_type": "execute_result"
    }
   ],
   "source": [
    "reflectance = pd.read_csv('reflectance.csv',header=0)\n",
    "reflectance.head()"
   ]
  },
  {
   "cell_type": "code",
   "execution_count": 43,
   "metadata": {},
   "outputs": [],
   "source": [
    "data = pd.concat([df, reflectance], axis=1).head()"
   ]
  },
  {
   "cell_type": "code",
   "execution_count": 47,
   "metadata": {},
   "outputs": [],
   "source": [
    "data.drop(columns='Thickness', axis=1, inplace=True)"
   ]
  },
  {
   "cell_type": "code",
   "execution_count": 48,
   "metadata": {},
   "outputs": [],
   "source": [
    "seed = 42"
   ]
  },
  {
   "cell_type": "code",
   "execution_count": 49,
   "metadata": {},
   "outputs": [],
   "source": [
    "from sklearn.model_selection import train_test_split"
   ]
  },
  {
   "cell_type": "code",
   "execution_count": 50,
   "metadata": {},
   "outputs": [],
   "source": [
    "train, test = train_test_split(df, test_size=0.3, random_state=seed)\n",
    "X_train, y_train = train.iloc[:,:4], train.iloc[:,4:]\n",
    "X_test, y_test = test.iloc[:,:4], test.iloc[:,4:]\n",
    "\n",
    "X_train = X_train.to_numpy()\n",
    "X_test = X_test.to_numpy()\n"
   ]
  },
  {
   "cell_type": "code",
   "execution_count": 52,
   "metadata": {},
   "outputs": [
    {
     "data": {
      "text/plain": [
       "array([[ 15.   ,  21.   ,  55.   ,   1.965],\n",
       "       [  9.   ,  40.   ,  71.   ,   1.977],\n",
       "       [ 12.   ,  18.   ,  45.   ,   1.96 ],\n",
       "       [ 38.   ,  57.   ,  90.   ,   1.941],\n",
       "       [ 19.   ,  33.   ,  70.   ,   1.966],\n",
       "       [  6.   ,  36.   ,  72.   ,   1.992],\n",
       "       [  6.   ,  12.   ,  40.   ,   1.946],\n",
       "       [  9.   ,  14.   ,  20.   ,   1.949],\n",
       "       [ 40.   ,  69.   ,  99.   ,   1.975],\n",
       "       [  3.   ,   7.   ,  36.   ,   1.948],\n",
       "       [  8.   ,  38.   ,  74.   ,   1.988],\n",
       "       [ 40.   ,  69.   , 101.   ,   1.972],\n",
       "       [  5.   ,  31.   ,  64.   ,   1.987],\n",
       "       [ 11.   ,  42.   ,  70.   ,   1.979],\n",
       "       [ 54.   ,  75.   ,  94.   ,   1.96 ],\n",
       "       [  7.   ,  39.   ,  77.   ,   1.987],\n",
       "       [  5.   ,   9.   ,  46.   ,   1.965],\n",
       "       [ 28.   ,  41.   ,  76.   ,   1.968],\n",
       "       [ 39.   ,  58.   ,  91.   ,   1.944],\n",
       "       [ 44.   ,  69.   ,  91.   ,   1.966],\n",
       "       [  9.   ,  40.   ,  71.   ,   1.977],\n",
       "       [ 11.   ,  18.   ,  37.   ,   1.966]])"
      ]
     },
     "execution_count": 52,
     "metadata": {},
     "output_type": "execute_result"
    }
   ],
   "source": [
    "X_train"
   ]
  },
  {
   "attachments": {},
   "cell_type": "markdown",
   "metadata": {},
   "source": [
    "### AutoML TEST"
   ]
  },
  {
   "cell_type": "code",
   "execution_count": 53,
   "metadata": {},
   "outputs": [
    {
     "name": "stderr",
     "output_type": "stream",
     "text": [
      "c:\\Users\\se99a\\anaconda3\\lib\\site-packages\\sklearn\\utils\\validation.py:1143: DataConversionWarning: A column-vector y was passed when a 1d array was expected. Please change the shape of y to (n_samples, ), for example using ravel().\n",
      "  y = column_or_1d(y, warn=True)\n"
     ]
    },
    {
     "data": {
      "application/vnd.jupyter.widget-view+json": {
       "model_id": "b14872d0b07c40eeb1d2ddd898db94bf",
       "version_major": 2,
       "version_minor": 0
      },
      "text/plain": [
       "Optimization Progress:   0%|          | 0/300 [00:00<?, ?pipeline/s]"
      ]
     },
     "metadata": {},
     "output_type": "display_data"
    },
    {
     "name": "stdout",
     "output_type": "stream",
     "text": [
      "\n",
      "Generation 1 - Current best internal CV score: -40.47613538832197\n"
     ]
    }
   ],
   "source": [
    "from tpot import TPOTRegressor\n",
    "\n",
    "tpot = TPOTRegressor(generations=5, population_size=50, verbosity=2, random_state=42)\n",
    "tpot.fit(X_train, y_train)\n",
    "\n",
    "# Evaluate the model on the test set\n",
    "mse = tpot.score(X_test, y_test)\n",
    "print('Test set mean squared error: %.3f' % mse)\n",
    "\n",
    "# Export the best pipeline as Python code\n",
    "tpot.export('tpot_best_pipeline.py')"
   ]
  },
  {
   "cell_type": "code",
   "execution_count": null,
   "metadata": {},
   "outputs": [],
   "source": [
    "y_pred = tpot.predict(X_test)\n",
    "y_pred_train = tpot.predict(X_train)"
   ]
  },
  {
   "cell_type": "code",
   "execution_count": null,
   "metadata": {},
   "outputs": [
    {
     "data": {
      "text/plain": [
       "array([117.25      ,  84.55      , 103.27142857,  91.3       ,\n",
       "        77.2       ,  76.9       , 117.04      , 102.31111111,\n",
       "        86.44444444,  76.975     ])"
      ]
     },
     "metadata": {},
     "output_type": "display_data"
    }
   ],
   "source": [
    "y_pred"
   ]
  },
  {
   "cell_type": "code",
   "execution_count": null,
   "metadata": {},
   "outputs": [],
   "source": [
    "idx = list(i for i in range(len(y_pred)))"
   ]
  },
  {
   "cell_type": "code",
   "execution_count": null,
   "metadata": {},
   "outputs": [],
   "source": [
    "y_test.index = idx\n",
    "y_pred = pd.DataFrame(y_pred)[0]"
   ]
  },
  {
   "cell_type": "code",
   "execution_count": null,
   "metadata": {},
   "outputs": [
    {
     "data": {
      "text/plain": [
       "0    117.250000\n",
       "1     84.550000\n",
       "2    103.271429\n",
       "3     91.300000\n",
       "4     77.200000\n",
       "5     76.900000\n",
       "6    117.040000\n",
       "7    102.311111\n",
       "8     86.444444\n",
       "9     76.975000\n",
       "Name: 0, dtype: float64"
      ]
     },
     "metadata": {},
     "output_type": "display_data"
    }
   ],
   "source": [
    "y_pred"
   ]
  },
  {
   "cell_type": "code",
   "execution_count": null,
   "metadata": {},
   "outputs": [
    {
     "data": {
      "text/plain": [
       "<matplotlib.legend.Legend at 0x20d36ed5ed0>"
      ]
     },
     "metadata": {},
     "output_type": "display_data"
    },
    {
     "data": {
      "image/png": "[encoded data removed]",
      "text/plain": [
       "<Figure size 640x480 with 1 Axes>"
      ]
     },
     "metadata": {},
     "output_type": "display_data"
    }
   ],
   "source": [
    "plt.plot(y_test, 'o')\n",
    "plt.plot(y_pred, 'o')\n",
    "#plt.plot(y_train, 'o')\n",
    "#plt.plot(y_pred_train, 'o')\n",
    "plt.legend(['y_test', 'y_pred', 'y_train', 'y_pred_train'])"
   ]
  },
  {
   "attachments": {},
   "cell_type": "markdown",
   "metadata": {},
   "source": [
    "AutoML만 사용하였을 때, 성능 매우 우수함"
   ]
  },
  {
   "cell_type": "code",
   "execution_count": null,
   "metadata": {},
   "outputs": [],
   "source": []
  }
 ],
 "metadata": {
  "kernelspec": {
   "display_name": "base",
   "language": "python",
   "name": "python3"
  },
  "language_info": {
   "codemirror_mode": {
    "name": "ipython",
    "version": 3
   },
   "file_extension": ".py",
   "mimetype": "text/x-python",
   "name": "python",
   "nbconvert_exporter": "python",
   "pygments_lexer": "ipython3",
   "version": "3.10.9"
  },
  "orig_nbformat": 4
 },
 "nbformat": 4,
 "nbformat_minor": 2
}
