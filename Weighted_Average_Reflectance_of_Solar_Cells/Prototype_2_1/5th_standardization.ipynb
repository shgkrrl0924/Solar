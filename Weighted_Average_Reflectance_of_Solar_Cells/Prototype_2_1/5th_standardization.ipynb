{
 "cells": [
  {
   "attachments": {},
   "cell_type": "markdown",
   "metadata": {},
   "source": [
    "# 3가지 방식 사용\n",
    "\n",
    "- 설명은 GPT 참조하였습니다.\n",
    "---\n",
    "\n",
    "### 1. 히스토그램 일치화 (Histogram Equalization)\n",
    "\n",
    "히스토그램 일치화는 이미지의 히스토그램을 고르게 분포하도록 변경하는 방법입니다.\n",
    "- 주로 이미지의 대비를 향상시키기 위해 사용됩니다.\n",
    "- 일치화를 통해 어두운 영역과 밝은 영역 모두에 있는 정보를 더 잘 보이게 할 수 있습니다.\n",
    "- 흑백 이미지에 주로 적용되지만 컬러 이미지의 경우 YUV나 HSV와 같은 다른 색 공간으로 변환하여 Y 채널이나 V 채널에 히스토그램 일치화를 적용할 수 있습니다.\n",
    "\n",
    "### 2. Z-Score 정규화 (Z-Score Normalization)\n",
    "\n",
    "Z-Score 정규화는 각 픽셀 값을 해당 이미지의 픽셀 값 평균에서 뺀 다음 픽셀 값의 표준편차로 나누는 방법입니다.\n",
    "\n",
    "공식:\n",
    "\\[ Z = \\frac{X - \\mu}{\\sigma} \\]\n",
    "- \\( Z \\): Z-Score 정규화된 값\n",
    "- \\( X \\): 원래 픽셀 값\n",
    "- \\( \\mu \\): 이미지의 픽셀 값 평균\n",
    "- \\( \\sigma \\): 이미지의 픽셀 값 표준편차\n",
    "\n",
    "- 이 방법은 이미지의 평균을 0으로, 표준편차를 1로 만들어 데이터를 표준화합니다.\n",
    "- 딥러닝 모델의 입력 데이터로 이미지를 사용할 때 자주 사용되는 방법 중 하나입니다.\n",
    "\n",
    "### 3. Min-Max 정규화 (Min-Max Normalization)\n",
    "\n",
    "Min-Max 정규화는 이미지의 픽셀 값을 해당 이미지의 최소 픽셀 값과 최대 픽셀 값 사이로 스케일링하는 방법입니다.\n",
    "\n",
    "공식:\n",
    "\\[ S = \\frac{X - X_{\\text{min}}}{X_{\\text{max}} - X_{\\text{min}}} \\]\n",
    "- \\( S \\): Min-Max 정규화된 값\n",
    "- \\( X \\): 원래 픽셀 값\n",
    "- \\( X_{\\text{min}} \\): 이미지의 최소 픽셀 값\n",
    "- \\( X_{\\text{max}} \\): 이미지의 최대 픽셀 값\n",
    "\n",
    "- 이 방법은 모든 픽셀 값을 0과 1 사이로 만듭니다.\n",
    "- 이미지의 픽셀 값 범위를 제한하거나 통일하고 싶을 때 사용됩니다.\n",
    "\n",
    "---\n",
    "\n"
   ]
  },
  {
   "cell_type": "code",
   "execution_count": 1,
   "metadata": {},
   "outputs": [],
   "source": [
    "import pandas as pd\n",
    "import numpy as np\n",
    "from PIL import Image \n",
    "import matplotlib.pyplot as plt\n",
    "import os\n",
    "\n",
    "import torch\n",
    "import torch.nn as nn\n",
    "import torch.nn.functional as F\n",
    "import torchvision.transforms as transforms\n",
    "import torchvision.models as models\n",
    "import torch.optim as optim\n",
    "import torchvision\n",
    "from torch.utils.data import Dataset, DataLoader\n",
    "from sklearn.model_selection import train_test_split\n",
    "import cv2"
   ]
  },
  {
   "cell_type": "code",
   "execution_count": 2,
   "metadata": {},
   "outputs": [],
   "source": [
    "Thickness = pd.read_csv('./data/Thickness.csv')\n",
    "Thickness = Thickness.drop([33]) # 9-1 drop\n",
    "Thickness.reset_index(drop=True, inplace=True)\n",
    "\n",
    "top_path = './data/box_img/Top/'\n",
    "bot_path = './data/box_img/Bot/'\n",
    "\n",
    "top_path_list = [f'./data/box_img/Top/Top_{i}.jpg' for i in range(0, 127)]\n",
    "bot_path_list = [f'./data/box_img/Bot/Bot_{i}.jpg' for i in range(0, 127)]"
   ]
  },
  {
   "cell_type": "code",
   "execution_count": 3,
   "metadata": {},
   "outputs": [
    {
     "data": {
      "text/html": [
       "<div>\n",
       "<style scoped>\n",
       "    .dataframe tbody tr th:only-of-type {\n",
       "        vertical-align: middle;\n",
       "    }\n",
       "\n",
       "    .dataframe tbody tr th {\n",
       "        vertical-align: top;\n",
       "    }\n",
       "\n",
       "    .dataframe thead th {\n",
       "        text-align: right;\n",
       "    }\n",
       "</style>\n",
       "<table border=\"1\" class=\"dataframe\">\n",
       "  <thead>\n",
       "    <tr style=\"text-align: right;\">\n",
       "      <th></th>\n",
       "      <th>Thickness</th>\n",
       "    </tr>\n",
       "  </thead>\n",
       "  <tbody>\n",
       "    <tr>\n",
       "      <th>0</th>\n",
       "      <td>48.266667</td>\n",
       "    </tr>\n",
       "    <tr>\n",
       "      <th>1</th>\n",
       "      <td>47.966667</td>\n",
       "    </tr>\n",
       "    <tr>\n",
       "      <th>2</th>\n",
       "      <td>48.166667</td>\n",
       "    </tr>\n",
       "    <tr>\n",
       "      <th>3</th>\n",
       "      <td>48.600000</td>\n",
       "    </tr>\n",
       "    <tr>\n",
       "      <th>4</th>\n",
       "      <td>59.533333</td>\n",
       "    </tr>\n",
       "    <tr>\n",
       "      <th>...</th>\n",
       "      <td>...</td>\n",
       "    </tr>\n",
       "    <tr>\n",
       "      <th>122</th>\n",
       "      <td>84.633333</td>\n",
       "    </tr>\n",
       "    <tr>\n",
       "      <th>123</th>\n",
       "      <td>98.366667</td>\n",
       "    </tr>\n",
       "    <tr>\n",
       "      <th>124</th>\n",
       "      <td>97.033333</td>\n",
       "    </tr>\n",
       "    <tr>\n",
       "      <th>125</th>\n",
       "      <td>96.266667</td>\n",
       "    </tr>\n",
       "    <tr>\n",
       "      <th>126</th>\n",
       "      <td>97.766667</td>\n",
       "    </tr>\n",
       "  </tbody>\n",
       "</table>\n",
       "<p>127 rows × 1 columns</p>\n",
       "</div>"
      ],
      "text/plain": [
       "     Thickness\n",
       "0    48.266667\n",
       "1    47.966667\n",
       "2    48.166667\n",
       "3    48.600000\n",
       "4    59.533333\n",
       "..         ...\n",
       "122  84.633333\n",
       "123  98.366667\n",
       "124  97.033333\n",
       "125  96.266667\n",
       "126  97.766667\n",
       "\n",
       "[127 rows x 1 columns]"
      ]
     },
     "execution_count": 3,
     "metadata": {},
     "output_type": "execute_result"
    }
   ],
   "source": [
    "Thickness"
   ]
  },
  {
   "attachments": {},
   "cell_type": "markdown",
   "metadata": {},
   "source": [
    "- Reference 보정을 위해 기본값을 정하고 Weight를 줘서 보정을 해주면 되지 않을까?"
   ]
  },
  {
   "cell_type": "code",
   "execution_count": 4,
   "metadata": {},
   "outputs": [],
   "source": [
    "import cv2\n",
    "\n",
    "def apply_histogram_equalization(img_array):\n",
    "    \"\"\"Apply histogram equalization to the image.\"\"\"\n",
    "    img_yuv = cv2.cvtColor(img_array, cv2.COLOR_RGB2YUV)\n",
    "    img_yuv[:,:,0] = cv2.equalizeHist(img_yuv[:,:,0])\n",
    "    return cv2.cvtColor(img_yuv, cv2.COLOR_YUV2RGB)\n",
    "\n",
    "def apply_zscore_normalization(img_array):\n",
    "    \"\"\"Apply Z-Score normalization to the image.\"\"\"\n",
    "    mean_pixel = np.mean(img_array)\n",
    "    std_dev_pixel = np.std(img_array)\n",
    "    return (img_array - mean_pixel) / std_dev_pixel\n",
    "\n",
    "def apply_minmax_normalization(img_array):\n",
    "    \"\"\"Apply Min-Max normalization to the image.\"\"\"\n",
    "    min_pixel = np.min(img_array)\n",
    "    max_pixel = np.max(img_array)\n",
    "    return (img_array - min_pixel) / (max_pixel - min_pixel)\n",
    "\n",
    "# Using the given code with added standardization steps\n",
    "Base_img = np.array(Image.open(top_path_list[0]))\n",
    "Top_transformed_list_histogram = []\n",
    "Top_transformed_list_zscore = []\n",
    "Top_transformed_list_minmax = []\n",
    "\n",
    "for i in range(len(bot_path_list)):\n",
    "    bot_img = np.array(Image.open(bot_path_list[i]))\n",
    "    top_img = np.array(Image.open(top_path_list[i]))\n",
    "    base_img = np.array(Image.open(bot_path_list[0]))\n",
    "    \n",
    "    # Histogram Equalization\n",
    "    bot_img_histogram = apply_histogram_equalization(bot_img)\n",
    "    base_img_histogram = apply_histogram_equalization(base_img)\n",
    "    Bot_transformed_histogram = bot_img_histogram / (base_img_histogram + 1e-7) #0이되지 않게끔\n",
    "    Top_transformed_histogram = top_img * Bot_transformed_histogram\n",
    "    Top_transformed_list_histogram.append(Top_transformed_histogram)\n",
    "    \n",
    "    # Z-Score Normalization\n",
    "    bot_img_zscore = apply_zscore_normalization(bot_img)\n",
    "    base_img_zscore = apply_zscore_normalization(base_img)\n",
    "    Bot_transformed_zscore = bot_img_zscore / (base_img_zscore + 1e-7)\n",
    "    Top_transformed_zscore = top_img * Bot_transformed_zscore\n",
    "    Top_transformed_list_zscore.append(Top_transformed_zscore)\n",
    "    \n",
    "    # Min-Max Normalization\n",
    "    bot_img_minmax = apply_minmax_normalization(bot_img)\n",
    "    base_img_minmax = apply_minmax_normalization(base_img)\n",
    "    Bot_transformed_minmax = bot_img_minmax / (base_img_minmax + 1e-7)\n",
    "    Top_transformed_minmax = top_img * Bot_transformed_minmax\n",
    "    Top_transformed_list_minmax.append(Top_transformed_minmax)\n"
   ]
  },
  {
   "cell_type": "code",
   "execution_count": 5,
   "metadata": {},
   "outputs": [],
   "source": [
    "import os\n",
    "\n",
    "# Define a function to save the images\n",
    "def save_images(image_list, base_path, prefix):\n",
    "    \"\"\"\n",
    "    Save the list of images to the specified path with a given prefix.\n",
    "    \n",
    "    Args:\n",
    "    - image_list (list): List of numpy arrays representing images.\n",
    "    - base_path (str): Directory where images will be saved.\n",
    "    - prefix (str): Prefix for the image filenames.\n",
    "    \"\"\"\n",
    "    for idx, img in enumerate(image_list):\n",
    "        img_path = os.path.join(base_path, f\"{prefix}_{idx}.jpg\")\n",
    "        Image.fromarray((img * 255).astype(np.uint8)).save(img_path)\n",
    "\n",
    "# Set base path for saving the images\n",
    "save_path = './corrected_images/'\n",
    "\n",
    "# Ensure the save directory exists\n",
    "if not os.path.exists(save_path):\n",
    "    os.makedirs(save_path)\n",
    "\n",
    "# Save the images for each correction method\n",
    "save_images(Top_transformed_list_histogram, save_path, \"histogram\")\n",
    "save_images(Top_transformed_list_zscore, save_path, \"zscore\")\n",
    "save_images(Top_transformed_list_minmax, save_path, \"minmax\")\n"
   ]
  },
  {
   "attachments": {},
   "cell_type": "markdown",
   "metadata": {},
   "source": [
    "### AutoML 먼저 시도"
   ]
  },
  {
   "cell_type": "code",
   "execution_count": 6,
   "metadata": {},
   "outputs": [],
   "source": [
    "top_avg_rgb_hist = []\n",
    "top_avg_rgb_zscore = []\n",
    "top_avg_rgb_minmax = []\n",
    "\n",
    "for i in range(len(Top_transformed_list_histogram)):\n",
    "    top = Top_transformed_list_histogram[i]\n",
    "    Top_R, Top_G, Top_B = np.mean(top[:,:,0]), np.mean(top[:,:,1]), np.mean(top[:,:,2])\n",
    "    \n",
    "    top_avg_rgb_hist.append([Top_R, Top_G, Top_B])\n",
    "    \n",
    "for i in range(len(Top_transformed_list_zscore)):\n",
    "    top = Top_transformed_list_zscore[i]\n",
    "    top_R, top_G, top_B = np.mean(top[:,:,0]), np.mean(top[:,:,1]), np.mean(top[:,:,2])\n",
    "    \n",
    "    top_avg_rgb_zscore.append([top_R, top_G, top_B])\n",
    "    \n",
    "for i in range(len(Top_transformed_list_minmax)):\n",
    "    top = Top_transformed_list_minmax[i]\n",
    "    top_R, top_G, top_B = np.mean(top[:,:,0]), np.mean(top[:,:,1]), np.mean(top[:,:,2])\n",
    "    \n",
    "    top_avg_rgb_minmax.append([top_R, top_G, top_B])"
   ]
  },
  {
   "cell_type": "code",
   "execution_count": 7,
   "metadata": {},
   "outputs": [],
   "source": [
    "top_avg_rgb_hist = np.array(top_avg_rgb_hist)\n",
    "top_avg_rgb_zscore = np.array(top_avg_rgb_zscore)\n",
    "top_avg_rgb_minmax = np.array(top_avg_rgb_minmax)"
   ]
  },
  {
   "cell_type": "code",
   "execution_count": 8,
   "metadata": {},
   "outputs": [],
   "source": [
    "Table_dataset_hist = pd.DataFrame(np.concatenate([top_avg_rgb_hist, Thickness], axis = 1), columns=['R', 'G', 'B', 'Thickness'])\n",
    "Table_dataset_zscore = pd.DataFrame(np.concatenate([top_avg_rgb_zscore, Thickness], axis = 1), columns=['R', 'G', 'B', 'Thickness'])\n",
    "Table_dataset_minmax = pd.DataFrame(np.concatenate([top_avg_rgb_minmax, Thickness], axis = 1), columns=['R', 'G', 'B', 'Thickness'])"
   ]
  },
  {
   "cell_type": "code",
   "execution_count": 9,
   "metadata": {},
   "outputs": [
    {
     "data": {
      "application/vnd.jupyter.widget-view+json": {
       "model_id": "3c271618b9eb462981f8eb6c3e508a1a",
       "version_major": 2,
       "version_minor": 0
      },
      "text/plain": [
       "Optimization Progress:   0%|          | 0/300 [00:00<?, ?pipeline/s]"
      ]
     },
     "metadata": {},
     "output_type": "display_data"
    },
    {
     "name": "stdout",
     "output_type": "stream",
     "text": [
      "\n",
      "Generation 1 - Current best internal CV score: -124.83738434285685\n",
      "\n",
      "Generation 2 - Current best internal CV score: -68.4114709661485\n",
      "\n",
      "Generation 3 - Current best internal CV score: -68.19071152119923\n",
      "\n",
      "Generation 4 - Current best internal CV score: -68.19071152119923\n",
      "\n",
      "Generation 5 - Current best internal CV score: -68.19071152119923\n",
      "\n",
      "Best pipeline: AdaBoostRegressor(RobustScaler(LassoLarsCV(input_matrix, normalize=True)), learning_rate=0.01, loss=linear, n_estimators=100)\n"
     ]
    },
    {
     "data": {
      "application/vnd.jupyter.widget-view+json": {
       "model_id": "bc3b0558a7a74a16916e96efb45de554",
       "version_major": 2,
       "version_minor": 0
      },
      "text/plain": [
       "Optimization Progress:   0%|          | 0/300 [00:00<?, ?pipeline/s]"
      ]
     },
     "metadata": {},
     "output_type": "display_data"
    },
    {
     "name": "stdout",
     "output_type": "stream",
     "text": [
      "\n",
      "Generation 1 - Current best internal CV score: -90.29586756568685\n",
      "\n",
      "Generation 2 - Current best internal CV score: -73.5213886716239\n",
      "\n",
      "Generation 3 - Current best internal CV score: -56.49381128063199\n",
      "\n",
      "Generation 4 - Current best internal CV score: -56.49381128063199\n",
      "\n",
      "Generation 5 - Current best internal CV score: -56.49381128063199\n",
      "\n",
      "Best pipeline: AdaBoostRegressor(LassoLarsCV(input_matrix, normalize=False), learning_rate=1.0, loss=linear, n_estimators=100)\n"
     ]
    },
    {
     "data": {
      "application/vnd.jupyter.widget-view+json": {
       "model_id": "d938cb96165c4ed8ada335b3ccc7c948",
       "version_major": 2,
       "version_minor": 0
      },
      "text/plain": [
       "Optimization Progress:   0%|          | 0/300 [00:00<?, ?pipeline/s]"
      ]
     },
     "metadata": {},
     "output_type": "display_data"
    },
    {
     "name": "stdout",
     "output_type": "stream",
     "text": [
      "\n",
      "Generation 1 - Current best internal CV score: -99.69383583404424\n",
      "\n",
      "Generation 2 - Current best internal CV score: -99.69383583404424\n",
      "\n",
      "Generation 3 - Current best internal CV score: -97.67741988255266\n",
      "\n",
      "Generation 4 - Current best internal CV score: -97.67741988255266\n",
      "\n",
      "Generation 5 - Current best internal CV score: -94.7797757895752\n",
      "\n",
      "Best pipeline: AdaBoostRegressor(PolynomialFeatures(input_matrix, degree=2, include_bias=False, interaction_only=False), learning_rate=0.5, loss=exponential, n_estimators=100)\n"
     ]
    }
   ],
   "source": [
    "from tpot import TPOTRegressor\n",
    "\n",
    "X_train_hist, X_test_hist, y_train_hist, y_test_hist = train_test_split(Table_dataset_hist.iloc[:,:-1], Table_dataset_hist.iloc[:,-1], test_size=0.3, random_state=42)\n",
    "tpot_hist = TPOTRegressor(generations=5, population_size=50, verbosity=2, random_state=42, cv=5, n_jobs = -1)\n",
    "tpot_hist.fit(X_train_hist, y_train_hist)\n",
    "tpot_hist.export('tpot_corrected_hist.py')\n",
    "\n",
    "X_train_zscore, X_test_zscore, y_train_zscore, y_test_zscore = train_test_split(Table_dataset_zscore.iloc[:,:-1], Table_dataset_zscore.iloc[:,-1], test_size=0.3, random_state=42)\n",
    "tpot_zscore = TPOTRegressor(generations=5, population_size=50, verbosity=2, random_state=42, cv=5, n_jobs = -1)\n",
    "tpot_zscore.fit(X_train_zscore, y_train_zscore)\n",
    "tpot_zscore.export('tpot_corrected_zscore.py')\n",
    "\n",
    "X_train_minmax, X_test_minmax, y_train_minmax, y_test_minmax = train_test_split(Table_dataset_minmax.iloc[:,:-1], Table_dataset_minmax.iloc[:,-1], test_size=0.3, random_state=42)\n",
    "tpot_minmax = TPOTRegressor(generations=5, population_size=50, verbosity=2, random_state=42, cv=5, n_jobs = -1)\n",
    "tpot_minmax.fit(X_train_minmax, y_train_minmax)\n",
    "tpot_minmax.export('tpot_corrected_minmax.py')"
   ]
  },
  {
   "cell_type": "code",
   "execution_count": 10,
   "metadata": {},
   "outputs": [
    {
     "name": "stderr",
     "output_type": "stream",
     "text": [
      "c:\\Users\\se99a\\anaconda3\\lib\\site-packages\\sklearn\\base.py:420: UserWarning: X does not have valid feature names, but LassoLarsCV was fitted with feature names\n",
      "  warnings.warn(\n",
      "c:\\Users\\se99a\\anaconda3\\lib\\site-packages\\sklearn\\base.py:420: UserWarning: X does not have valid feature names, but LassoLarsCV was fitted with feature names\n",
      "  warnings.warn(\n"
     ]
    }
   ],
   "source": [
    "y_pred_hist = tpot_hist.predict(X_test_hist)\n",
    "y_pred_zscore = tpot_zscore.predict(X_test_zscore)\n",
    "y_pred_minmax = tpot_minmax.predict(X_test_minmax)"
   ]
  },
  {
   "cell_type": "code",
   "execution_count": 16,
   "metadata": {},
   "outputs": [
    {
     "data": {
      "text/plain": [
       "[<matplotlib.lines.Line2D at 0x2126965eec0>]"
      ]
     },
     "execution_count": 16,
     "metadata": {},
     "output_type": "execute_result"
    },
    {
     "data": {
      "image/png": "[encoded data removed]",
      "text/plain": [
       "<Figure size 640x480 with 1 Axes>"
      ]
     },
     "metadata": {},
     "output_type": "display_data"
    }
   ],
   "source": [
    "plt.title(\"histogram equalization\")\n",
    "plt.plot(y_test_hist.values,'x', label = 'True')\n",
    "plt.plot(y_pred_hist,'*', label = 'Predict')"
   ]
  },
  {
   "cell_type": "code",
   "execution_count": 17,
   "metadata": {},
   "outputs": [
    {
     "data": {
      "text/plain": [
       "[<matplotlib.lines.Line2D at 0x21269840d60>]"
      ]
     },
     "execution_count": 17,
     "metadata": {},
     "output_type": "execute_result"
    },
    {
     "data": {
      "image/png": "[encoded data removed]",
      "text/plain": [
       "<Figure size 640x480 with 1 Axes>"
      ]
     },
     "metadata": {},
     "output_type": "display_data"
    }
   ],
   "source": [
    "plt.title(\"zscore normalization\")\n",
    "plt.plot(y_test_zscore.values,'x', label = 'True')\n",
    "plt.plot(y_pred_zscore,'*', label = 'Predict')"
   ]
  },
  {
   "cell_type": "code",
   "execution_count": 18,
   "metadata": {},
   "outputs": [
    {
     "data": {
      "text/plain": [
       "[<matplotlib.lines.Line2D at 0x212698b7df0>]"
      ]
     },
     "execution_count": 18,
     "metadata": {},
     "output_type": "execute_result"
    },
    {
     "data": {
      "image/png": "[encoded data removed]",
      "text/plain": [
       "<Figure size 640x480 with 1 Axes>"
      ]
     },
     "metadata": {},
     "output_type": "display_data"
    }
   ],
   "source": [
    "plt.title(\"minmax normalization\")\n",
    "plt.plot(y_test_minmax.values,'x', label = 'True')\n",
    "plt.plot(y_pred_minmax,'*', label = 'Predict')"
   ]
  },
  {
   "cell_type": "code",
   "execution_count": 19,
   "metadata": {},
   "outputs": [],
   "source": [
    "hist_result = pd.DataFrame({'True': y_test_hist.values, 'Predict': y_pred_hist})\n",
    "zscore_result = pd.DataFrame({'True': y_test_zscore.values, 'Predict': y_pred_zscore})\n",
    "minmax_result = pd.DataFrame({'True': y_test_minmax.values, 'Predict': y_pred_minmax})\n",
    "\n",
    "hist_result.to_csv('./data/hist_result.csv', index=False)\n",
    "zscore_result.to_csv('./data/zscore_result.csv', index=False)\n",
    "minmax_result.to_csv('./data/minmax_result.csv', index=False)"
   ]
  },
  {
   "cell_type": "code",
   "execution_count": 20,
   "metadata": {},
   "outputs": [
    {
     "name": "stdout",
     "output_type": "stream",
     "text": [
      "89.262987790551 46.9737364881852 103.6730398184102\n"
     ]
    }
   ],
   "source": [
    "hist_mse = np.mean((y_test_hist.values - y_pred_hist)**2)\n",
    "zscore_mse = np.mean((y_test_zscore.values - y_pred_zscore)**2)\n",
    "minmax_mse = np.mean((y_test_minmax.values - y_pred_minmax)**2)\n",
    "\n",
    "print(hist_mse, zscore_mse, minmax_mse)"
   ]
  },
  {
   "cell_type": "code",
   "execution_count": null,
   "metadata": {},
   "outputs": [],
   "source": []
  }
 ],
 "metadata": {
  "kernelspec": {
   "display_name": "base",
   "language": "python",
   "name": "python3"
  },
  "language_info": {
   "codemirror_mode": {
    "name": "ipython",
    "version": 3
   },
   "file_extension": ".py",
   "mimetype": "text/x-python",
   "name": "python",
   "nbconvert_exporter": "python",
   "pygments_lexer": "ipython3",
   "version": "3.10.9"
  },
  "orig_nbformat": 4
 },
 "nbformat": 4,
 "nbformat_minor": 2
}
