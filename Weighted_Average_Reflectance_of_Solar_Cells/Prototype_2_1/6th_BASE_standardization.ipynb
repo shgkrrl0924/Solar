{
 "cells": [
  {
   "attachments": {},
   "cell_type": "markdown",
   "metadata": {},
   "source": [
    "### 가장 성능이 좋았던 Z-score standardization을 BASE에만 적용하자\n"
   ]
  },
  {
   "cell_type": "code",
   "execution_count": 16,
   "metadata": {},
   "outputs": [],
   "source": [
    "import pandas as pd\n",
    "import numpy as np\n",
    "from PIL import Image \n",
    "import matplotlib.pyplot as plt\n",
    "import os\n",
    "\n",
    "import torch\n",
    "import torch.nn as nn\n",
    "import torch.nn.functional as F\n",
    "import torchvision.transforms as transforms\n",
    "import torchvision.models as models\n",
    "import torch.optim as optim\n",
    "import torchvision\n",
    "from torch.utils.data import Dataset, DataLoader\n",
    "from sklearn.model_selection import train_test_split\n",
    "import cv2"
   ]
  },
  {
   "cell_type": "code",
   "execution_count": 17,
   "metadata": {},
   "outputs": [],
   "source": [
    "Thickness = pd.read_csv('./data/Thickness.csv')\n",
    "Thickness = Thickness.drop([33]) # 9-1 drop\n",
    "Thickness.reset_index(drop=True, inplace=True)\n",
    "\n",
    "top_path = './data/box_img/Top/'\n",
    "bot_path = './data/box_img/Bot/'\n",
    "\n",
    "top_path_list = [f'./data/box_img/Top/Top_{i}.jpg' for i in range(0, 127)]\n",
    "bot_path_list = [f'./data/box_img/Bot/Bot_{i}.jpg' for i in range(0, 127)]"
   ]
  },
  {
   "cell_type": "code",
   "execution_count": 18,
   "metadata": {},
   "outputs": [
    {
     "data": {
      "text/html": [
       "<div>\n",
       "<style scoped>\n",
       "    .dataframe tbody tr th:only-of-type {\n",
       "        vertical-align: middle;\n",
       "    }\n",
       "\n",
       "    .dataframe tbody tr th {\n",
       "        vertical-align: top;\n",
       "    }\n",
       "\n",
       "    .dataframe thead th {\n",
       "        text-align: right;\n",
       "    }\n",
       "</style>\n",
       "<table border=\"1\" class=\"dataframe\">\n",
       "  <thead>\n",
       "    <tr style=\"text-align: right;\">\n",
       "      <th></th>\n",
       "      <th>Thickness</th>\n",
       "    </tr>\n",
       "  </thead>\n",
       "  <tbody>\n",
       "    <tr>\n",
       "      <th>0</th>\n",
       "      <td>48.266667</td>\n",
       "    </tr>\n",
       "    <tr>\n",
       "      <th>1</th>\n",
       "      <td>47.966667</td>\n",
       "    </tr>\n",
       "    <tr>\n",
       "      <th>2</th>\n",
       "      <td>48.166667</td>\n",
       "    </tr>\n",
       "    <tr>\n",
       "      <th>3</th>\n",
       "      <td>48.600000</td>\n",
       "    </tr>\n",
       "    <tr>\n",
       "      <th>4</th>\n",
       "      <td>59.533333</td>\n",
       "    </tr>\n",
       "    <tr>\n",
       "      <th>...</th>\n",
       "      <td>...</td>\n",
       "    </tr>\n",
       "    <tr>\n",
       "      <th>122</th>\n",
       "      <td>84.633333</td>\n",
       "    </tr>\n",
       "    <tr>\n",
       "      <th>123</th>\n",
       "      <td>98.366667</td>\n",
       "    </tr>\n",
       "    <tr>\n",
       "      <th>124</th>\n",
       "      <td>97.033333</td>\n",
       "    </tr>\n",
       "    <tr>\n",
       "      <th>125</th>\n",
       "      <td>96.266667</td>\n",
       "    </tr>\n",
       "    <tr>\n",
       "      <th>126</th>\n",
       "      <td>97.766667</td>\n",
       "    </tr>\n",
       "  </tbody>\n",
       "</table>\n",
       "<p>127 rows × 1 columns</p>\n",
       "</div>"
      ],
      "text/plain": [
       "     Thickness\n",
       "0    48.266667\n",
       "1    47.966667\n",
       "2    48.166667\n",
       "3    48.600000\n",
       "4    59.533333\n",
       "..         ...\n",
       "122  84.633333\n",
       "123  98.366667\n",
       "124  97.033333\n",
       "125  96.266667\n",
       "126  97.766667\n",
       "\n",
       "[127 rows x 1 columns]"
      ]
     },
     "execution_count": 18,
     "metadata": {},
     "output_type": "execute_result"
    }
   ],
   "source": [
    "Thickness"
   ]
  },
  {
   "cell_type": "code",
   "execution_count": 28,
   "metadata": {},
   "outputs": [],
   "source": [
    "import cv2\n",
    "\n",
    "def apply_zscore_normalization_based_on_base(img_array, mean_base, std_base):\n",
    "    \"\"\"Apply Z-Score normalization to the image based on the provided mean and standard deviation.\"\"\"\n",
    "    return (img_array - mean_base) / std_base\n",
    "\n",
    "# Calculate mean and standard deviation for the base image\n",
    "Base_img = np.array(Image.open(bot_path_list[0]))\n",
    "mean_base = np.mean(Base_img)\n",
    "std_base = np.std(Base_img)\n",
    "\n",
    "Top_transformed_list_zscore_base = []\n",
    "\n",
    "for i in range(len(bot_path_list)):\n",
    "    bot_img = np.array(Image.open(bot_path_list[i]))\n",
    "    top_img = np.array(Image.open(top_path_list[i]))\n",
    "    \n",
    "    # Z-Score Normalization based on base image\n",
    "    top_img_zscore_base = apply_zscore_normalization_based_on_base(top_img, mean_base, std_base)\n",
    "    Top_transformed_list_zscore_base.append(top_img_zscore_base)\n"
   ]
  },
  {
   "attachments": {},
   "cell_type": "markdown",
   "metadata": {},
   "source": [
    "### AutoML 먼저 시도"
   ]
  },
  {
   "cell_type": "code",
   "execution_count": 29,
   "metadata": {},
   "outputs": [],
   "source": [
    "top_avg_rgb_zscore_base = []\n",
    "    \n",
    "for i in range(len(Top_transformed_list_zscore_base)):\n",
    "    top = Top_transformed_list_zscore_base[i]\n",
    "    Top_R, Top_G, Top_B = np.mean(top[:,:,0]), np.mean(top[:,:,1]), np.mean(top[:,:,2])\n",
    "    \n",
    "    top_avg_rgb_zscore_base.append([Top_R, Top_G, Top_B])"
   ]
  },
  {
   "cell_type": "code",
   "execution_count": 30,
   "metadata": {},
   "outputs": [],
   "source": [
    "top_avg_rgb_zscore_base = np.array(top_avg_rgb_zscore_base)"
   ]
  },
  {
   "cell_type": "code",
   "execution_count": 31,
   "metadata": {},
   "outputs": [],
   "source": [
    "Table_dataset_zscore_base = pd.DataFrame(np.concatenate([top_avg_rgb_zscore_base, Thickness], axis = 1), columns=['R', 'G', 'B', 'Thickness'])"
   ]
  },
  {
   "cell_type": "code",
   "execution_count": 32,
   "metadata": {},
   "outputs": [
    {
     "data": {
      "application/vnd.jupyter.widget-view+json": {
       "model_id": "4363c6849d844591bffb6d248cb1ef11",
       "version_major": 2,
       "version_minor": 0
      },
      "text/plain": [
       "Optimization Progress:   0%|          | 0/300 [00:00<?, ?pipeline/s]"
      ]
     },
     "metadata": {},
     "output_type": "display_data"
    },
    {
     "name": "stdout",
     "output_type": "stream",
     "text": [
      "\n",
      "Generation 1 - Current best internal CV score: -42.686667083184616\n",
      "\n",
      "Generation 2 - Current best internal CV score: -41.735812239537964\n",
      "\n",
      "Generation 3 - Current best internal CV score: -41.735812239537964\n",
      "\n",
      "Generation 4 - Current best internal CV score: -41.735812239537964\n",
      "\n",
      "Generation 5 - Current best internal CV score: -41.042470780085125\n",
      "\n",
      "Best pipeline: KNeighborsRegressor(input_matrix, n_neighbors=4, p=2, weights=distance)\n"
     ]
    }
   ],
   "source": [
    "from tpot import TPOTRegressor\n",
    "\n",
    "X_train_zscore_base, X_test_zscore_base, y_train_zscore_base, y_test_zscore_base = train_test_split(Table_dataset_zscore_base.iloc[:,:-1], Table_dataset_zscore_base.iloc[:,-1], test_size=0.3, random_state=42)\n",
    "tpot_zscore_base = TPOTRegressor(generations=5, population_size=50, verbosity=2, random_state=42, cv=5, n_jobs = -1)\n",
    "tpot_zscore_base.fit(X_train_zscore_base, y_train_zscore_base)\n",
    "tpot_zscore_base.export('tpot_corrected_zscore_base.py')"
   ]
  },
  {
   "cell_type": "code",
   "execution_count": 33,
   "metadata": {},
   "outputs": [],
   "source": [
    "y_pred_zscore_base = tpot_zscore_base.predict(X_test_zscore_base)"
   ]
  },
  {
   "cell_type": "code",
   "execution_count": 34,
   "metadata": {},
   "outputs": [
    {
     "data": {
      "text/plain": [
       "[<matplotlib.lines.Line2D at 0x29382a7b4c0>]"
      ]
     },
     "execution_count": 34,
     "metadata": {},
     "output_type": "execute_result"
    },
    {
     "data": {
      "image/png": "[encoded data removed]",
      "text/plain": [
       "<Figure size 640x480 with 1 Axes>"
      ]
     },
     "metadata": {},
     "output_type": "display_data"
    }
   ],
   "source": [
    "plt.title('Z-Score Normalization based on Base')\n",
    "plt.plot(y_test_zscore_base.values,'x', label = 'True')\n",
    "plt.plot(y_pred_zscore_base,'*', label = 'Predict')"
   ]
  },
  {
   "cell_type": "code",
   "execution_count": 35,
   "metadata": {},
   "outputs": [],
   "source": [
    "zscore_based_result = pd.DataFrame({'True': y_test_zscore_base.values, 'Predict': y_pred_zscore_base})\n",
    "\n",
    "zscore_based_result.to_csv('./data/zscore_based_result.csv', index=False)"
   ]
  },
  {
   "cell_type": "code",
   "execution_count": 36,
   "metadata": {},
   "outputs": [
    {
     "name": "stdout",
     "output_type": "stream",
     "text": [
      "MSE:  64.03884876819937\n"
     ]
    }
   ],
   "source": [
    "zscore_based_mse = np.mean((y_test_zscore_base.values - y_pred_zscore_base)**2)\n",
    "print('MSE: ', zscore_based_mse)"
   ]
  },
  {
   "cell_type": "code",
   "execution_count": null,
   "metadata": {},
   "outputs": [],
   "source": []
  },
  {
   "cell_type": "code",
   "execution_count": null,
   "metadata": {},
   "outputs": [],
   "source": []
  }
 ],
 "metadata": {
  "kernelspec": {
   "display_name": "base",
   "language": "python",
   "name": "python3"
  },
  "language_info": {
   "codemirror_mode": {
    "name": "ipython",
    "version": 3
   },
   "file_extension": ".py",
   "mimetype": "text/x-python",
   "name": "python",
   "nbconvert_exporter": "python",
   "pygments_lexer": "ipython3",
   "version": "3.10.9"
  },
  "orig_nbformat": 4
 },
 "nbformat": 4,
 "nbformat_minor": 2
}
