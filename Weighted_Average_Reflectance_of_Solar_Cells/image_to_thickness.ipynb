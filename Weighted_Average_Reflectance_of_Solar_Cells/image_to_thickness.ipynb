{
 "cells": [
  {
   "cell_type": "code",
   "execution_count": 191,
   "metadata": {},
   "outputs": [],
   "source": [
    "import pandas as pd\n",
    "import numpy as np\n",
    "import matplotlib.pyplot as plt"
   ]
  },
  {
   "cell_type": "code",
   "execution_count": 192,
   "metadata": {},
   "outputs": [
    {
     "name": "stdout",
     "output_type": "stream",
     "text": [
      "<class 'pandas.core.frame.DataFrame'>\n",
      "RangeIndex: 32 entries, 0 to 31\n",
      "Data columns (total 5 columns):\n",
      " #   Column     Non-Null Count  Dtype  \n",
      "---  ------     --------------  -----  \n",
      " 0   R          32 non-null     int64  \n",
      " 1   G          32 non-null     int64  \n",
      " 2   B          32 non-null     int64  \n",
      " 3   R_I        32 non-null     object \n",
      " 4   Thickness  32 non-null     float64\n",
      "dtypes: float64(1), int64(3), object(1)\n",
      "memory usage: 1.4+ KB\n"
     ]
    }
   ],
   "source": [
    "df = pd.read_csv(\"Solar.csv\",header=0).iloc[:,:5]\n",
    "df.info()"
   ]
  },
  {
   "cell_type": "code",
   "execution_count": 193,
   "metadata": {},
   "outputs": [
    {
     "data": {
      "text/plain": [
       "0     1.947\n",
       "1     1.946\n",
       "2     1.949\n",
       "3     1.948\n",
       "4     1.965\n",
       "5      1.96\n",
       "6     1.966\n",
       "7     1.965\n",
       "8     1.969\n",
       "9     1.969\n",
       "10    1.968\n",
       "11    1.966\n",
       "12    1.942\n",
       "13    1.941\n",
       "14    1.944\n",
       "15     1.94\n",
       "16    1.977\n",
       "17    1.978\n",
       "18    1.979\n",
       "19    1.977\n",
       "20    1.987\n",
       "21    1.988\n",
       "22    1.987\n",
       "23    1.992\n",
       "24    1.974\n",
       "25    1,973\n",
       "26    1.975\n",
       "27    1.972\n",
       "28    1.966\n",
       "29    1.959\n",
       "30    1.962\n",
       "31     1.96\n",
       "Name: R_I, dtype: object"
      ]
     },
     "execution_count": 193,
     "metadata": {},
     "output_type": "execute_result"
    }
   ],
   "source": [
    "df.R_I"
   ]
  },
  {
   "cell_type": "code",
   "execution_count": 194,
   "metadata": {},
   "outputs": [],
   "source": [
    "df.R_I = df.R_I.str.replace(\",\",\".\").astype(float)"
   ]
  },
  {
   "cell_type": "code",
   "execution_count": 195,
   "metadata": {},
   "outputs": [
    {
     "data": {
      "text/plain": [
       "0     1.947\n",
       "1     1.946\n",
       "2     1.949\n",
       "3     1.948\n",
       "4     1.965\n",
       "5     1.960\n",
       "6     1.966\n",
       "7     1.965\n",
       "8     1.969\n",
       "9     1.969\n",
       "10    1.968\n",
       "11    1.966\n",
       "12    1.942\n",
       "13    1.941\n",
       "14    1.944\n",
       "15    1.940\n",
       "16    1.977\n",
       "17    1.978\n",
       "18    1.979\n",
       "19    1.977\n",
       "20    1.987\n",
       "21    1.988\n",
       "22    1.987\n",
       "23    1.992\n",
       "24    1.974\n",
       "25    1.973\n",
       "26    1.975\n",
       "27    1.972\n",
       "28    1.966\n",
       "29    1.959\n",
       "30    1.962\n",
       "31    1.960\n",
       "Name: R_I, dtype: float64"
      ]
     },
     "execution_count": 195,
     "metadata": {},
     "output_type": "execute_result"
    }
   ],
   "source": [
    "df.R_I"
   ]
  },
  {
   "cell_type": "code",
   "execution_count": 196,
   "metadata": {},
   "outputs": [],
   "source": [
    "seed = 10"
   ]
  },
  {
   "cell_type": "code",
   "execution_count": 197,
   "metadata": {},
   "outputs": [],
   "source": [
    "from sklearn.model_selection import train_test_split"
   ]
  },
  {
   "cell_type": "code",
   "execution_count": 198,
   "metadata": {},
   "outputs": [],
   "source": [
    "train, test = train_test_split(df, test_size=0.3, random_state=seed)\n",
    "X_train, y_train = train.iloc[:,:4], train.iloc[:,4]\n",
    "X_test, y_test = test.iloc[:,:4], test.iloc[:,4]\n",
    "\n",
    "X_train = X_train.to_numpy()\n",
    "X_test = X_test.to_numpy()\n"
   ]
  },
  {
   "cell_type": "code",
   "execution_count": 199,
   "metadata": {},
   "outputs": [
    {
     "data": {
      "text/plain": [
       "'from sklearn.preprocessing import MinMaxScaler\\n\\n# Create a MinMaxScaler object\\nscaler = MinMaxScaler()\\n\\n# Fit the scaler to the data and transform it\\nX_train = scaler.fit_transform(X_train)\\nX_test = scaler.transform(X_test)'"
      ]
     },
     "execution_count": 199,
     "metadata": {},
     "output_type": "execute_result"
    }
   ],
   "source": [
    "\"\"\"from sklearn.preprocessing import MinMaxScaler\n",
    "\n",
    "# Create a MinMaxScaler object\n",
    "scaler = MinMaxScaler()\n",
    "\n",
    "# Fit the scaler to the data and transform it\n",
    "X_train = scaler.fit_transform(X_train)\n",
    "X_test = scaler.transform(X_test)\"\"\""
   ]
  },
  {
   "cell_type": "code",
   "execution_count": 200,
   "metadata": {},
   "outputs": [
    {
     "data": {
      "text/plain": [
       "0.566859195282986"
      ]
     },
     "execution_count": 200,
     "metadata": {},
     "output_type": "execute_result"
    }
   ],
   "source": [
    "from sklearn.linear_model import LinearRegression\n",
    "\n",
    "reg = LinearRegression().fit(X_train, y_train)\n",
    "reg.score(X_test, y_test)"
   ]
  },
  {
   "cell_type": "code",
   "execution_count": 201,
   "metadata": {},
   "outputs": [],
   "source": [
    "import torch.nn as nn\n",
    "import torch.nn.functional as F\n",
    "import torch.optim as optim\n",
    "import torch"
   ]
  },
  {
   "cell_type": "code",
   "execution_count": 202,
   "metadata": {},
   "outputs": [
    {
     "name": "stderr",
     "output_type": "stream",
     "text": [
      "c:\\Users\\se99a\\anaconda3\\lib\\site-packages\\torch\\nn\\modules\\loss.py:536: UserWarning: Using a target size (torch.Size([22])) that is different to the input size (torch.Size([22, 1])). This will likely lead to incorrect results due to broadcasting. Please ensure they have the same size.\n",
      "  return F.mse_loss(input, target, reduction=self.reduction)\n"
     ]
    },
    {
     "name": "stdout",
     "output_type": "stream",
     "text": [
      "Epoch 0: train loss: 8828.158203125\n",
      "Epoch 100: train loss: 331.97674560546875\n",
      "Epoch 200: train loss: 266.4754943847656\n",
      "Epoch 300: train loss: 223.21376037597656\n",
      "Epoch 400: train loss: 222.19285583496094\n",
      "Epoch 500: train loss: 220.99041748046875\n",
      "Epoch 600: train loss: 220.28065490722656\n",
      "Epoch 700: train loss: 220.20797729492188\n",
      "Epoch 800: train loss: 220.48406982421875\n",
      "Epoch 900: train loss: 230.3198699951172\n",
      "Epoch 1000: train loss: 220.0970916748047\n",
      "Epoch 1100: train loss: 219.86570739746094\n",
      "Epoch 1200: train loss: 224.86819458007812\n",
      "Epoch 1300: train loss: 219.84803771972656\n",
      "Epoch 1400: train loss: 220.01309204101562\n",
      "Epoch 1500: train loss: 220.26132202148438\n",
      "Epoch 1600: train loss: 219.95355224609375\n",
      "Epoch 1700: train loss: 223.29254150390625\n",
      "Epoch 1800: train loss: 220.854736328125\n",
      "Epoch 1900: train loss: 220.19175720214844\n",
      "Epoch 2000: train loss: 221.07879638671875\n",
      "Epoch 2100: train loss: 219.4212646484375\n",
      "Epoch 2200: train loss: 219.33067321777344\n",
      "Epoch 2300: train loss: 219.39723205566406\n",
      "Epoch 2400: train loss: 219.75973510742188\n",
      "Epoch 2500: train loss: 219.32647705078125\n",
      "Epoch 2600: train loss: 219.32443237304688\n",
      "Epoch 2700: train loss: 228.7044677734375\n",
      "Epoch 2800: train loss: 219.50856018066406\n",
      "Epoch 2900: train loss: 220.3562774658203\n",
      "Epoch 3000: train loss: 219.34707641601562\n",
      "Epoch 3100: train loss: 219.47769165039062\n",
      "Epoch 3200: train loss: 219.49740600585938\n",
      "Epoch 3300: train loss: 219.30284118652344\n",
      "Epoch 3400: train loss: 221.19496154785156\n",
      "Epoch 3500: train loss: 219.87355041503906\n",
      "Epoch 3600: train loss: 219.8077392578125\n",
      "Epoch 3700: train loss: 221.4756622314453\n",
      "Epoch 3800: train loss: 221.36915588378906\n",
      "Epoch 3900: train loss: 222.81307983398438\n",
      "Epoch 4000: train loss: 219.8294677734375\n",
      "Epoch 4100: train loss: 220.1090545654297\n",
      "Epoch 4200: train loss: 219.25108337402344\n",
      "Epoch 4300: train loss: 219.62245178222656\n",
      "Epoch 4400: train loss: 219.4853057861328\n",
      "Epoch 4500: train loss: 220.21701049804688\n",
      "Epoch 4600: train loss: 219.24771118164062\n",
      "Epoch 4700: train loss: 219.24073791503906\n",
      "Epoch 4800: train loss: 219.22962951660156\n",
      "Epoch 4900: train loss: 219.28717041015625\n",
      "Epoch 5000: train loss: 219.5456085205078\n",
      "Epoch 5100: train loss: 219.28463745117188\n",
      "Epoch 5200: train loss: 219.5208282470703\n",
      "Epoch 5300: train loss: 219.71212768554688\n",
      "Epoch 5400: train loss: 219.35879516601562\n",
      "Epoch 5500: train loss: 219.52867126464844\n",
      "Epoch 5600: train loss: 219.21348571777344\n",
      "Epoch 5700: train loss: 219.32119750976562\n",
      "Epoch 5800: train loss: 219.19818115234375\n",
      "Epoch 5900: train loss: 219.22503662109375\n",
      "Epoch 6000: train loss: 219.57273864746094\n",
      "Epoch 6100: train loss: 219.19297790527344\n",
      "Epoch 6200: train loss: 219.3401336669922\n",
      "Epoch 6300: train loss: 219.3798370361328\n",
      "Epoch 6400: train loss: 223.11233520507812\n",
      "Epoch 6500: train loss: 219.3358154296875\n",
      "Epoch 6600: train loss: 219.78192138671875\n",
      "Epoch 6700: train loss: 219.3195037841797\n",
      "Epoch 6800: train loss: 220.53660583496094\n",
      "Epoch 6900: train loss: 219.83323669433594\n",
      "Epoch 7000: train loss: 220.13278198242188\n",
      "Epoch 7100: train loss: 219.2835693359375\n",
      "Epoch 7200: train loss: 220.57505798339844\n",
      "Epoch 7300: train loss: 219.1637725830078\n",
      "Epoch 7400: train loss: 219.37551879882812\n",
      "Epoch 7500: train loss: 222.30335998535156\n",
      "Epoch 7600: train loss: 221.16729736328125\n",
      "Epoch 7700: train loss: 219.61085510253906\n",
      "Epoch 7800: train loss: 219.2745819091797\n",
      "Epoch 7900: train loss: 219.3253173828125\n",
      "Epoch 8000: train loss: 219.17681884765625\n",
      "Epoch 8100: train loss: 219.17152404785156\n",
      "Epoch 8200: train loss: 219.39210510253906\n",
      "Epoch 8300: train loss: 219.5594940185547\n",
      "Epoch 8400: train loss: 219.43910217285156\n",
      "Epoch 8500: train loss: 219.1726531982422\n",
      "Epoch 8600: train loss: 219.15689086914062\n",
      "Epoch 8700: train loss: 219.4586181640625\n",
      "Epoch 8800: train loss: 219.4689178466797\n",
      "Epoch 8900: train loss: 234.48477172851562\n",
      "Epoch 9000: train loss: 219.1783905029297\n",
      "Epoch 9100: train loss: 219.16265869140625\n",
      "Epoch 9200: train loss: 219.16015625\n",
      "Epoch 9300: train loss: 219.15872192382812\n",
      "Epoch 9400: train loss: 219.157470703125\n",
      "Epoch 9500: train loss: 219.1564178466797\n",
      "Epoch 9600: train loss: 219.15553283691406\n",
      "Epoch 9700: train loss: 219.1548309326172\n",
      "Epoch 9800: train loss: 219.15420532226562\n",
      "Epoch 9900: train loss: 219.15357971191406\n",
      "Test loss: 274.9248046875\n"
     ]
    },
    {
     "name": "stderr",
     "output_type": "stream",
     "text": [
      "c:\\Users\\se99a\\anaconda3\\lib\\site-packages\\torch\\nn\\modules\\loss.py:536: UserWarning: Using a target size (torch.Size([10])) that is different to the input size (torch.Size([10, 1])). This will likely lead to incorrect results due to broadcasting. Please ensure they have the same size.\n",
      "  return F.mse_loss(input, target, reduction=self.reduction)\n"
     ]
    }
   ],
   "source": [
    "class Net(nn.Module):\n",
    "    def __init__(self):\n",
    "        super(Net, self).__init__()\n",
    "        self.fc1 = nn.Linear(4, 10)\n",
    "        self.fc2 = nn.Linear(10, 100)\n",
    "        self.fc3 = nn.Linear(100, 250)\n",
    "        self.fc4 = nn.Linear(250, 100)\n",
    "        self.fc5 = nn.Linear(100, 10)\n",
    "        self.fc6 = nn.Linear(10, 1)\n",
    "        \n",
    "\n",
    "    def forward(self, x):\n",
    "        x = F.relu(self.fc1(x))\n",
    "        x = F.relu(self.fc2(x))\n",
    "        x = F.relu(self.fc3(x))\n",
    "        x = F.relu(self.fc4(x))\n",
    "        x = F.relu(self.fc5(x))\n",
    "        x= self.fc6(x)\n",
    "        return x\n",
    "    \n",
    "net = Net()\n",
    "\n",
    "criterion = nn.MSELoss()\n",
    "optimizer = optim.Adam(net.parameters(), lr=0.01)\n",
    "\n",
    "X_train = torch.from_numpy(X_train).float()\n",
    "y_train = torch.from_numpy(y_train.values).float()\n",
    "X_test = torch.from_numpy(X_test).float()\n",
    "y_test = torch.from_numpy(y_test.values).float()\n",
    "\n",
    "for epoch in range(10000):  # loop over the dataset multiple times\n",
    "    y_pred_train = net.forward(X_train)\n",
    "    loss = criterion(y_pred_train, y_train)\n",
    "    \n",
    "    optimizer.zero_grad()\n",
    "    loss.backward()\n",
    "    optimizer.step()\n",
    "    \n",
    "    if epoch % 100 == 0:\n",
    "        print('Epoch {}: train loss: {}'.format(epoch, loss.item()))\n",
    "        \n",
    "with torch.no_grad():\n",
    "    y_pred = net.forward(X_test)\n",
    "    y_pred = y_pred.numpy()\n",
    "    print('Test loss: {}'.format(criterion(torch.from_numpy(y_pred), y_test).item()))"
   ]
  },
  {
   "cell_type": "code",
   "execution_count": 203,
   "metadata": {},
   "outputs": [
    {
     "data": {
      "text/plain": [
       "<matplotlib.legend.Legend at 0x20d32f7b910>"
      ]
     },
     "execution_count": 203,
     "metadata": {},
     "output_type": "execute_result"
    },
    {
     "data": {
      "image/png": "[encoded data removed]",
      "text/plain": [
       "<Figure size 640x480 with 1 Axes>"
      ]
     },
     "metadata": {},
     "output_type": "display_data"
    }
   ],
   "source": [
    "plt.plot(y_test, 'o')\n",
    "plt.plot(y_pred, 'o')\n",
    "plt.plot(y_train, 'o')\n",
    "plt.plot(y_pred_train.detach().numpy(), 'o')\n",
    "plt.legend(['y_test', 'y_pred', 'y_train', 'y_pred_train'])"
   ]
  },
  {
   "cell_type": "code",
   "execution_count": 204,
   "metadata": {},
   "outputs": [
    {
     "name": "stdout",
     "output_type": "stream",
     "text": [
      "Collecting tpotNote: you may need to restart the kernel to use updated packages.\n",
      "\n",
      "  Downloading TPOT-0.11.7-py3-none-any.whl (87 kB)\n",
      "     ---------------------------------------- 87.2/87.2 kB 5.1 MB/s eta 0:00:00\n",
      "Collecting update-checker>=0.16\n",
      "  Downloading update_checker-0.18.0-py3-none-any.whl (7.0 kB)\n",
      "Requirement already satisfied: scikit-learn>=0.22.0 in c:\\users\\se99a\\anaconda3\\lib\\site-packages (from tpot) (1.2.1)\n",
      "Requirement already satisfied: tqdm>=4.36.1 in c:\\users\\se99a\\anaconda3\\lib\\site-packages (from tpot) (4.64.1)\n",
      "Requirement already satisfied: scipy>=1.3.1 in c:\\users\\se99a\\anaconda3\\lib\\site-packages (from tpot) (1.10.0)\n",
      "Collecting deap>=1.2\n",
      "  Downloading deap-1.3.3-cp310-cp310-win_amd64.whl (114 kB)\n",
      "     -------------------------------------- 114.3/114.3 kB 6.9 MB/s eta 0:00:00\n",
      "Requirement already satisfied: joblib>=0.13.2 in c:\\users\\se99a\\anaconda3\\lib\\site-packages (from tpot) (1.1.1)\n",
      "Collecting xgboost>=1.1.0\n",
      "  Downloading xgboost-1.7.5-py3-none-win_amd64.whl (70.9 MB)\n",
      "     --------------------------------------- 70.9/70.9 MB 19.8 MB/s eta 0:00:00\n",
      "Requirement already satisfied: pandas>=0.24.2 in c:\\users\\se99a\\anaconda3\\lib\\site-packages (from tpot) (1.5.3)\n",
      "Collecting stopit>=1.1.1\n",
      "  Downloading stopit-1.1.2.tar.gz (18 kB)\n",
      "  Preparing metadata (setup.py): started\n",
      "  Preparing metadata (setup.py): finished with status 'done'\n",
      "Requirement already satisfied: numpy>=1.16.3 in c:\\users\\se99a\\anaconda3\\lib\\site-packages (from tpot) (1.23.5)\n",
      "Requirement already satisfied: python-dateutil>=2.8.1 in c:\\users\\se99a\\appdata\\roaming\\python\\python310\\site-packages (from pandas>=0.24.2->tpot) (2.8.2)\n",
      "Requirement already satisfied: pytz>=2020.1 in c:\\users\\se99a\\anaconda3\\lib\\site-packages (from pandas>=0.24.2->tpot) (2022.7)\n",
      "Requirement already satisfied: threadpoolctl>=2.0.0 in c:\\users\\se99a\\anaconda3\\lib\\site-packages (from scikit-learn>=0.22.0->tpot) (2.2.0)\n",
      "Requirement already satisfied: colorama in c:\\users\\se99a\\appdata\\roaming\\python\\python310\\site-packages (from tqdm>=4.36.1->tpot) (0.4.6)\n",
      "Requirement already satisfied: requests>=2.3.0 in c:\\users\\se99a\\anaconda3\\lib\\site-packages (from update-checker>=0.16->tpot) (2.28.1)\n",
      "Requirement already satisfied: six>=1.5 in c:\\users\\se99a\\appdata\\roaming\\python\\python310\\site-packages (from python-dateutil>=2.8.1->pandas>=0.24.2->tpot) (1.16.0)\n",
      "Requirement already satisfied: idna<4,>=2.5 in c:\\users\\se99a\\anaconda3\\lib\\site-packages (from requests>=2.3.0->update-checker>=0.16->tpot) (3.4)\n",
      "Requirement already satisfied: urllib3<1.27,>=1.21.1 in c:\\users\\se99a\\anaconda3\\lib\\site-packages (from requests>=2.3.0->update-checker>=0.16->tpot) (1.26.14)\n",
      "Requirement already satisfied: charset-normalizer<3,>=2 in c:\\users\\se99a\\anaconda3\\lib\\site-packages (from requests>=2.3.0->update-checker>=0.16->tpot) (2.0.4)\n",
      "Requirement already satisfied: certifi>=2017.4.17 in c:\\users\\se99a\\anaconda3\\lib\\site-packages (from requests>=2.3.0->update-checker>=0.16->tpot) (2023.5.7)\n",
      "Building wheels for collected packages: stopit\n",
      "  Building wheel for stopit (setup.py): started\n",
      "  Building wheel for stopit (setup.py): finished with status 'done'\n",
      "  Created wheel for stopit: filename=stopit-1.1.2-py3-none-any.whl size=12019 sha256=b58b4619b00e074d334b189e78330e36f54334b56c7724afe470a144a497d86a\n",
      "  Stored in directory: c:\\users\\se99a\\appdata\\local\\pip\\cache\\wheels\\ac\\b6\\fc\\67f7dd6291ee9a509bb12bb9b80773eed4b88bd55292ac672f\n",
      "Successfully built stopit\n",
      "Installing collected packages: stopit, deap, xgboost, update-checker, tpot\n",
      "Successfully installed deap-1.3.3 stopit-1.1.2 tpot-0.11.7 update-checker-0.18.0 xgboost-1.7.5\n"
     ]
    }
   ],
   "source": [
    "%pip install tpot"
   ]
  },
  {
   "cell_type": "code",
   "execution_count": 208,
   "metadata": {},
   "outputs": [],
   "source": [
    "train, test = train_test_split(df, test_size=0.3, random_state=seed)\n",
    "X_train, y_train = train.iloc[:,:4], train.iloc[:,4]\n",
    "X_test, y_test = test.iloc[:,:4], test.iloc[:,4]\n",
    "\n",
    "X_train = X_train.to_numpy()\n",
    "X_test = X_test.to_numpy()"
   ]
  },
  {
   "cell_type": "code",
   "execution_count": 209,
   "metadata": {},
   "outputs": [
    {
     "data": {
      "application/vnd.jupyter.widget-view+json": {
       "model_id": "11b4a1a58bbc40698f9cf1fac7787a35",
       "version_major": 2,
       "version_minor": 0
      },
      "text/plain": [
       "Optimization Progress:   0%|          | 0/300 [00:00<?, ?pipeline/s]"
      ]
     },
     "metadata": {},
     "output_type": "display_data"
    },
    {
     "name": "stdout",
     "output_type": "stream",
     "text": [
      "\n",
      "Generation 1 - Current best internal CV score: -17.46157586805554\n",
      "\n",
      "Generation 2 - Current best internal CV score: -17.380048999999993\n",
      "\n",
      "Generation 3 - Current best internal CV score: -17.365694899234683\n",
      "\n",
      "Generation 4 - Current best internal CV score: -17.365694899234683\n",
      "\n",
      "Generation 5 - Current best internal CV score: -17.365694899234683\n",
      "\n",
      "Best pipeline: AdaBoostRegressor(ExtraTreesRegressor(input_matrix, bootstrap=True, max_features=0.2, min_samples_leaf=12, min_samples_split=19, n_estimators=100), learning_rate=0.1, loss=linear, n_estimators=100)\n",
      "Test set mean squared error: -129.241\n"
     ]
    },
    {
     "name": "stderr",
     "output_type": "stream",
     "text": [
      "c:\\Users\\se99a\\anaconda3\\lib\\site-packages\\sklearn\\metrics\\_scorer.py:794: FutureWarning: sklearn.metrics.SCORERS is deprecated and will be removed in v1.3. Please use sklearn.metrics.get_scorer_names to get a list of available scorers and sklearn.metrics.get_metric to get scorer.\n",
      "  warnings.warn(\n"
     ]
    }
   ],
   "source": [
    "from tpot import TPOTRegressor\n",
    "\n",
    "tpot = TPOTRegressor(generations=5, population_size=50, verbosity=2, random_state=42)\n",
    "tpot.fit(X_train, y_train)\n",
    "\n",
    "# Evaluate the model on the test set\n",
    "mse = tpot.score(X_test, y_test)\n",
    "print('Test set mean squared error: %.3f' % mse)\n",
    "\n",
    "# Export the best pipeline as Python code\n",
    "tpot.export('tpot_best_pipeline.py')"
   ]
  },
  {
   "cell_type": "code",
   "execution_count": 230,
   "metadata": {},
   "outputs": [],
   "source": [
    "y_pred = tpot.predict(X_test)\n",
    "y_pred_train = tpot.predict(X_train)"
   ]
  },
  {
   "cell_type": "code",
   "execution_count": 231,
   "metadata": {},
   "outputs": [
    {
     "data": {
      "text/plain": [
       "array([104.1       ,  75.09090909,  75.01538462,  75.07      ,\n",
       "        75.08      , 104.1       ,  84.92      ,  85.1       ,\n",
       "       102.5       ,  75.08      ])"
      ]
     },
     "execution_count": 231,
     "metadata": {},
     "output_type": "execute_result"
    }
   ],
   "source": [
    "y_pred"
   ]
  },
  {
   "cell_type": "code",
   "execution_count": 220,
   "metadata": {},
   "outputs": [],
   "source": [
    "idx = list(i for i in range(len(y_pred)))"
   ]
  },
  {
   "cell_type": "code",
   "execution_count": 236,
   "metadata": {},
   "outputs": [],
   "source": [
    "y_test.index = idx\n",
    "y_pred = pd.DataFrame(y_pred)[0]"
   ]
  },
  {
   "cell_type": "code",
   "execution_count": 237,
   "metadata": {},
   "outputs": [
    {
     "data": {
      "text/plain": [
       "0    104.100000\n",
       "1     75.090909\n",
       "2     75.015385\n",
       "3     75.070000\n",
       "4     75.080000\n",
       "5    104.100000\n",
       "6     84.920000\n",
       "7     85.100000\n",
       "8    102.500000\n",
       "9     75.080000\n",
       "Name: 0, dtype: float64"
      ]
     },
     "execution_count": 237,
     "metadata": {},
     "output_type": "execute_result"
    }
   ],
   "source": [
    "y_pred"
   ]
  },
  {
   "cell_type": "code",
   "execution_count": 238,
   "metadata": {},
   "outputs": [
    {
     "data": {
      "text/plain": [
       "<matplotlib.legend.Legend at 0x20d36d58790>"
      ]
     },
     "execution_count": 238,
     "metadata": {},
     "output_type": "execute_result"
    },
    {
     "data": {
      "image/png": "[encoded data removed]",
      "text/plain": [
       "<Figure size 640x480 with 1 Axes>"
      ]
     },
     "metadata": {},
     "output_type": "display_data"
    }
   ],
   "source": [
    "plt.plot(y_test, 'o')\n",
    "plt.plot(y_pred, 'o')\n",
    "#plt.plot(y_train, 'o')\n",
    "#plt.plot(y_pred_train, 'o')\n",
    "plt.legend(['y_test', 'y_pred', 'y_train', 'y_pred_train'])"
   ]
  },
  {
   "cell_type": "code",
   "execution_count": null,
   "metadata": {},
   "outputs": [],
   "source": []
  }
 ],
 "metadata": {
  "kernelspec": {
   "display_name": "base",
   "language": "python",
   "name": "python3"
  },
  "language_info": {
   "codemirror_mode": {
    "name": "ipython",
    "version": 3
   },
   "file_extension": ".py",
   "mimetype": "text/x-python",
   "name": "python",
   "nbconvert_exporter": "python",
   "pygments_lexer": "ipython3",
   "version": "3.10.9"
  },
  "orig_nbformat": 4
 },
 "nbformat": 4,
 "nbformat_minor": 2
}
