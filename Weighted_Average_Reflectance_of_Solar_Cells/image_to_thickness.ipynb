{
 "cells": [
  {
   "attachments": {},
   "cell_type": "markdown",
   "metadata": {},
   "source": [
    "## 가중평균반사도 예측모형\n",
    "\n",
    "- 이미지 픽셀 값 -> 두께를 predict 하는 모델 구축"
   ]
  },
  {
   "attachments": {},
   "cell_type": "markdown",
   "metadata": {},
   "source": [
    "### 데이터 전처리 부분"
   ]
  },
  {
   "cell_type": "code",
   "execution_count": 241,
   "metadata": {},
   "outputs": [],
   "source": [
    "import pandas as pd\n",
    "import numpy as np\n",
    "import matplotlib.pyplot as plt"
   ]
  },
  {
   "cell_type": "code",
   "execution_count": 242,
   "metadata": {},
   "outputs": [
    {
     "name": "stdout",
     "output_type": "stream",
     "text": [
      "<class 'pandas.core.frame.DataFrame'>\n",
      "RangeIndex: 32 entries, 0 to 31\n",
      "Data columns (total 5 columns):\n",
      " #   Column     Non-Null Count  Dtype  \n",
      "---  ------     --------------  -----  \n",
      " 0   R          32 non-null     int64  \n",
      " 1   G          32 non-null     int64  \n",
      " 2   B          32 non-null     int64  \n",
      " 3   R_I        32 non-null     object \n",
      " 4   Thickness  32 non-null     float64\n",
      "dtypes: float64(1), int64(3), object(1)\n",
      "memory usage: 1.4+ KB\n"
     ]
    }
   ],
   "source": [
    "df = pd.read_csv(\"Solar.csv\",header=0).iloc[:,:5]\n",
    "df.info()"
   ]
  },
  {
   "cell_type": "code",
   "execution_count": 244,
   "metadata": {},
   "outputs": [],
   "source": [
    "df.R_I = df.R_I.str.replace(\",\",\".\").astype(float)"
   ]
  },
  {
   "cell_type": "code",
   "execution_count": 246,
   "metadata": {},
   "outputs": [],
   "source": [
    "seed = 42"
   ]
  },
  {
   "cell_type": "code",
   "execution_count": 247,
   "metadata": {},
   "outputs": [],
   "source": [
    "from sklearn.model_selection import train_test_split"
   ]
  },
  {
   "cell_type": "code",
   "execution_count": 248,
   "metadata": {},
   "outputs": [],
   "source": [
    "train, test = train_test_split(df, test_size=0.3, random_state=seed)\n",
    "X_train, y_train = train.iloc[:,:4], train.iloc[:,4]\n",
    "X_test, y_test = test.iloc[:,:4], test.iloc[:,4]\n",
    "\n",
    "X_train = X_train.to_numpy()\n",
    "X_test = X_test.to_numpy()\n"
   ]
  },
  {
   "cell_type": "code",
   "execution_count": 249,
   "metadata": {},
   "outputs": [
    {
     "data": {
      "text/plain": [
       "'from sklearn.preprocessing import MinMaxScaler\\n\\n# Create a MinMaxScaler object\\nscaler = MinMaxScaler()\\n\\n# Fit the scaler to the data and transform it\\nX_train = scaler.fit_transform(X_train)\\nX_test = scaler.transform(X_test)'"
      ]
     },
     "execution_count": 249,
     "metadata": {},
     "output_type": "execute_result"
    }
   ],
   "source": [
    "\"\"\"from sklearn.preprocessing import MinMaxScaler\n",
    "\n",
    "# Create a MinMaxScaler object\n",
    "scaler = MinMaxScaler()\n",
    "\n",
    "# Fit the scaler to the data and transform it\n",
    "X_train = scaler.fit_transform(X_train)\n",
    "X_test = scaler.transform(X_test)\"\"\""
   ]
  },
  {
   "attachments": {},
   "cell_type": "markdown",
   "metadata": {},
   "source": [
    "### Linear Regression Test"
   ]
  },
  {
   "cell_type": "code",
   "execution_count": 250,
   "metadata": {},
   "outputs": [
    {
     "data": {
      "text/plain": [
       "0.7438383177032218"
      ]
     },
     "execution_count": 250,
     "metadata": {},
     "output_type": "execute_result"
    }
   ],
   "source": [
    "from sklearn.linear_model import LinearRegression\n",
    "\n",
    "reg = LinearRegression().fit(X_train, y_train)\n",
    "reg.score(X_test, y_test)"
   ]
  },
  {
   "attachments": {},
   "cell_type": "markdown",
   "metadata": {},
   "source": [
    "### NN Test"
   ]
  },
  {
   "cell_type": "code",
   "execution_count": 251,
   "metadata": {},
   "outputs": [],
   "source": [
    "import torch.nn as nn\n",
    "import torch.nn.functional as F\n",
    "import torch.optim as optim\n",
    "import torch"
   ]
  },
  {
   "cell_type": "code",
   "execution_count": 252,
   "metadata": {},
   "outputs": [
    {
     "name": "stderr",
     "output_type": "stream",
     "text": [
      "c:\\Users\\se99a\\anaconda3\\lib\\site-packages\\torch\\nn\\modules\\loss.py:536: UserWarning: Using a target size (torch.Size([22])) that is different to the input size (torch.Size([22, 1])). This will likely lead to incorrect results due to broadcasting. Please ensure they have the same size.\n",
      "  return F.mse_loss(input, target, reduction=self.reduction)\n"
     ]
    },
    {
     "name": "stdout",
     "output_type": "stream",
     "text": [
      "Epoch 0: train loss: 8287.787109375\n",
      "Epoch 100: train loss: 392.718505859375\n",
      "Epoch 200: train loss: 243.00917053222656\n",
      "Epoch 300: train loss: 229.50003051757812\n",
      "Epoch 400: train loss: 228.53671264648438\n",
      "Epoch 500: train loss: 227.95413208007812\n",
      "Epoch 600: train loss: 227.4004364013672\n",
      "Epoch 700: train loss: 226.93955993652344\n",
      "Epoch 800: train loss: 226.55088806152344\n",
      "Epoch 900: train loss: 226.231201171875\n",
      "Epoch 1000: train loss: 227.8540496826172\n",
      "Epoch 1100: train loss: 225.6596221923828\n",
      "Epoch 1200: train loss: 226.54501342773438\n",
      "Epoch 1300: train loss: 225.0962371826172\n",
      "Epoch 1400: train loss: 224.86898803710938\n",
      "Epoch 1500: train loss: 224.5968475341797\n",
      "Epoch 1600: train loss: 224.3914337158203\n",
      "Epoch 1700: train loss: 224.23443603515625\n",
      "Epoch 1800: train loss: 224.0923309326172\n",
      "Epoch 1900: train loss: 223.9839324951172\n",
      "Epoch 2000: train loss: 223.97450256347656\n",
      "Epoch 2100: train loss: 223.90000915527344\n",
      "Epoch 2200: train loss: 223.95603942871094\n",
      "Epoch 2300: train loss: 223.90744018554688\n",
      "Epoch 2400: train loss: 223.83624267578125\n",
      "Epoch 2500: train loss: 223.84959411621094\n",
      "Epoch 2600: train loss: 223.8289794921875\n",
      "Epoch 2700: train loss: 223.88377380371094\n",
      "Epoch 2800: train loss: 223.8266143798828\n",
      "Epoch 2900: train loss: 223.8889923095703\n",
      "Epoch 3000: train loss: 223.82431030273438\n",
      "Epoch 3100: train loss: 223.842041015625\n",
      "Epoch 3200: train loss: 224.3347625732422\n",
      "Epoch 3300: train loss: 224.96803283691406\n",
      "Epoch 3400: train loss: 223.82315063476562\n",
      "Epoch 3500: train loss: 223.8333282470703\n",
      "Epoch 3600: train loss: 224.2390594482422\n",
      "Epoch 3700: train loss: 223.82461547851562\n",
      "Epoch 3800: train loss: 223.8559112548828\n",
      "Epoch 3900: train loss: 223.82394409179688\n",
      "Epoch 4000: train loss: 223.85740661621094\n",
      "Epoch 4100: train loss: 223.82533264160156\n",
      "Epoch 4200: train loss: 223.84275817871094\n",
      "Epoch 4300: train loss: 223.83486938476562\n",
      "Epoch 4400: train loss: 223.82823181152344\n",
      "Epoch 4500: train loss: 224.4165802001953\n",
      "Epoch 4600: train loss: 223.8284454345703\n",
      "Epoch 4700: train loss: 223.82691955566406\n",
      "Epoch 4800: train loss: 234.2721405029297\n",
      "Epoch 4900: train loss: 223.82029724121094\n",
      "Epoch 5000: train loss: 223.82025146484375\n",
      "Epoch 5100: train loss: 223.82028198242188\n",
      "Epoch 5200: train loss: 223.82028198242188\n",
      "Epoch 5300: train loss: 223.8202667236328\n",
      "Epoch 5400: train loss: 223.82025146484375\n",
      "Epoch 5500: train loss: 223.82028198242188\n",
      "Epoch 5600: train loss: 223.88330078125\n",
      "Epoch 5700: train loss: 223.82028198242188\n",
      "Epoch 5800: train loss: 225.41915893554688\n",
      "Epoch 5900: train loss: 223.8206329345703\n",
      "Epoch 6000: train loss: 223.82029724121094\n",
      "Epoch 6100: train loss: 224.09400939941406\n",
      "Epoch 6200: train loss: 223.82028198242188\n",
      "Epoch 6300: train loss: 223.8202667236328\n",
      "Epoch 6400: train loss: 224.12908935546875\n",
      "Epoch 6500: train loss: 223.82029724121094\n",
      "Epoch 6600: train loss: 223.822998046875\n",
      "Epoch 6700: train loss: 223.82203674316406\n",
      "Epoch 6800: train loss: 223.8202667236328\n",
      "Epoch 6900: train loss: 225.2323455810547\n",
      "Epoch 7000: train loss: 223.82049560546875\n",
      "Epoch 7100: train loss: 223.82028198242188\n",
      "Epoch 7200: train loss: 223.82875061035156\n",
      "Epoch 7300: train loss: 223.82081604003906\n",
      "Epoch 7400: train loss: 223.82028198242188\n",
      "Epoch 7500: train loss: 223.8202667236328\n",
      "Epoch 7600: train loss: 223.82028198242188\n",
      "Epoch 7700: train loss: 223.8203125\n",
      "Epoch 7800: train loss: 223.82028198242188\n",
      "Epoch 7900: train loss: 223.8202667236328\n",
      "Epoch 8000: train loss: 223.8275909423828\n",
      "Epoch 8100: train loss: 223.82025146484375\n",
      "Epoch 8200: train loss: 223.82028198242188\n",
      "Epoch 8300: train loss: 223.82281494140625\n",
      "Epoch 8400: train loss: 223.82025146484375\n",
      "Epoch 8500: train loss: 223.82029724121094\n",
      "Epoch 8600: train loss: 223.82089233398438\n",
      "Epoch 8700: train loss: 223.8202667236328\n",
      "Epoch 8800: train loss: 223.82028198242188\n",
      "Epoch 8900: train loss: 223.83396911621094\n",
      "Epoch 9000: train loss: 223.8202667236328\n",
      "Epoch 9100: train loss: 223.82025146484375\n",
      "Epoch 9200: train loss: 223.8202667236328\n",
      "Epoch 9300: train loss: 223.8204803466797\n",
      "Epoch 9400: train loss: 223.82028198242188\n",
      "Epoch 9500: train loss: 223.82061767578125\n",
      "Epoch 9600: train loss: 223.8202667236328\n",
      "Epoch 9700: train loss: 223.82028198242188\n",
      "Epoch 9800: train loss: 223.82028198242188\n",
      "Epoch 9900: train loss: 223.82264709472656\n",
      "Test loss: 262.3963623046875\n"
     ]
    },
    {
     "name": "stderr",
     "output_type": "stream",
     "text": [
      "c:\\Users\\se99a\\anaconda3\\lib\\site-packages\\torch\\nn\\modules\\loss.py:536: UserWarning: Using a target size (torch.Size([10])) that is different to the input size (torch.Size([10, 1])). This will likely lead to incorrect results due to broadcasting. Please ensure they have the same size.\n",
      "  return F.mse_loss(input, target, reduction=self.reduction)\n"
     ]
    }
   ],
   "source": [
    "class Net(nn.Module):\n",
    "    def __init__(self):\n",
    "        super(Net, self).__init__()\n",
    "        self.fc1 = nn.Linear(4, 10)\n",
    "        self.fc2 = nn.Linear(10, 100)\n",
    "        self.fc3 = nn.Linear(100, 250)\n",
    "        self.fc4 = nn.Linear(250, 100)\n",
    "        self.fc5 = nn.Linear(100, 10)\n",
    "        self.fc6 = nn.Linear(10, 1)\n",
    "        \n",
    "\n",
    "    def forward(self, x):\n",
    "        x = F.relu(self.fc1(x))\n",
    "        x = F.relu(self.fc2(x))\n",
    "        x = F.relu(self.fc3(x))\n",
    "        x = F.relu(self.fc4(x))\n",
    "        x = F.relu(self.fc5(x))\n",
    "        x= self.fc6(x)\n",
    "        return x\n",
    "    \n",
    "net = Net()\n",
    "\n",
    "criterion = nn.MSELoss()\n",
    "optimizer = optim.Adam(net.parameters(), lr=0.01)\n",
    "\n",
    "X_train = torch.from_numpy(X_train).float()\n",
    "y_train = torch.from_numpy(y_train.values).float()\n",
    "X_test = torch.from_numpy(X_test).float()\n",
    "y_test = torch.from_numpy(y_test.values).float()\n",
    "\n",
    "for epoch in range(10000):  # loop over the dataset multiple times\n",
    "    y_pred_train = net.forward(X_train)\n",
    "    loss = criterion(y_pred_train, y_train)\n",
    "    \n",
    "    optimizer.zero_grad()\n",
    "    loss.backward()\n",
    "    optimizer.step()\n",
    "    \n",
    "    if epoch % 100 == 0:\n",
    "        print('Epoch {}: train loss: {}'.format(epoch, loss.item()))\n",
    "        \n",
    "with torch.no_grad():\n",
    "    y_pred = net.forward(X_test)\n",
    "    y_pred = y_pred.numpy()\n",
    "    print('Test loss: {}'.format(criterion(torch.from_numpy(y_pred), y_test).item()))"
   ]
  },
  {
   "cell_type": "code",
   "execution_count": 253,
   "metadata": {},
   "outputs": [
    {
     "data": {
      "text/plain": [
       "<matplotlib.legend.Legend at 0x20d369575b0>"
      ]
     },
     "execution_count": 253,
     "metadata": {},
     "output_type": "execute_result"
    },
    {
     "data": {
      "image/png": "[encoded data removed]",
      "text/plain": [
       "<Figure size 640x480 with 1 Axes>"
      ]
     },
     "metadata": {},
     "output_type": "display_data"
    }
   ],
   "source": [
    "plt.plot(y_test, 'o')\n",
    "plt.plot(y_pred, 'o')\n",
    "plt.plot(y_train, 'o')\n",
    "plt.plot(y_pred_train.detach().numpy(), 'o')\n",
    "plt.legend(['y_test', 'y_pred', 'y_train', 'y_pred_train'])"
   ]
  },
  {
   "cell_type": "code",
   "execution_count": 254,
   "metadata": {},
   "outputs": [
    {
     "name": "stdout",
     "output_type": "stream",
     "text": [
      "Requirement already satisfied: tpot in c:\\users\\se99a\\anaconda3\\lib\\site-packages (0.11.7)Note: you may need to restart the kernel to use updated packages.\n",
      "\n",
      "Requirement already satisfied: deap>=1.2 in c:\\users\\se99a\\anaconda3\\lib\\site-packages (from tpot) (1.3.3)\n",
      "Requirement already satisfied: scikit-learn>=0.22.0 in c:\\users\\se99a\\anaconda3\\lib\\site-packages (from tpot) (1.2.1)\n",
      "Requirement already satisfied: stopit>=1.1.1 in c:\\users\\se99a\\anaconda3\\lib\\site-packages (from tpot) (1.1.2)\n",
      "Requirement already satisfied: xgboost>=1.1.0 in c:\\users\\se99a\\anaconda3\\lib\\site-packages (from tpot) (1.7.5)\n",
      "Requirement already satisfied: joblib>=0.13.2 in c:\\users\\se99a\\anaconda3\\lib\\site-packages (from tpot) (1.1.1)\n",
      "Requirement already satisfied: pandas>=0.24.2 in c:\\users\\se99a\\anaconda3\\lib\\site-packages (from tpot) (1.5.3)\n",
      "Requirement already satisfied: update-checker>=0.16 in c:\\users\\se99a\\anaconda3\\lib\\site-packages (from tpot) (0.18.0)\n",
      "Requirement already satisfied: tqdm>=4.36.1 in c:\\users\\se99a\\anaconda3\\lib\\site-packages (from tpot) (4.64.1)\n",
      "Requirement already satisfied: scipy>=1.3.1 in c:\\users\\se99a\\anaconda3\\lib\\site-packages (from tpot) (1.10.0)\n",
      "Requirement already satisfied: numpy>=1.16.3 in c:\\users\\se99a\\anaconda3\\lib\\site-packages (from tpot) (1.23.5)\n",
      "Requirement already satisfied: python-dateutil>=2.8.1 in c:\\users\\se99a\\appdata\\roaming\\python\\python310\\site-packages (from pandas>=0.24.2->tpot) (2.8.2)\n",
      "Requirement already satisfied: pytz>=2020.1 in c:\\users\\se99a\\anaconda3\\lib\\site-packages (from pandas>=0.24.2->tpot) (2022.7)\n",
      "Requirement already satisfied: threadpoolctl>=2.0.0 in c:\\users\\se99a\\anaconda3\\lib\\site-packages (from scikit-learn>=0.22.0->tpot) (2.2.0)\n",
      "Requirement already satisfied: colorama in c:\\users\\se99a\\appdata\\roaming\\python\\python310\\site-packages (from tqdm>=4.36.1->tpot) (0.4.6)\n",
      "Requirement already satisfied: requests>=2.3.0 in c:\\users\\se99a\\anaconda3\\lib\\site-packages (from update-checker>=0.16->tpot) (2.28.1)\n",
      "Requirement already satisfied: six>=1.5 in c:\\users\\se99a\\appdata\\roaming\\python\\python310\\site-packages (from python-dateutil>=2.8.1->pandas>=0.24.2->tpot) (1.16.0)\n",
      "Requirement already satisfied: urllib3<1.27,>=1.21.1 in c:\\users\\se99a\\anaconda3\\lib\\site-packages (from requests>=2.3.0->update-checker>=0.16->tpot) (1.26.14)\n",
      "Requirement already satisfied: idna<4,>=2.5 in c:\\users\\se99a\\anaconda3\\lib\\site-packages (from requests>=2.3.0->update-checker>=0.16->tpot) (3.4)\n",
      "Requirement already satisfied: certifi>=2017.4.17 in c:\\users\\se99a\\anaconda3\\lib\\site-packages (from requests>=2.3.0->update-checker>=0.16->tpot) (2023.5.7)\n",
      "Requirement already satisfied: charset-normalizer<3,>=2 in c:\\users\\se99a\\anaconda3\\lib\\site-packages (from requests>=2.3.0->update-checker>=0.16->tpot) (2.0.4)\n"
     ]
    }
   ],
   "source": [
    "%pip install tpot"
   ]
  },
  {
   "attachments": {},
   "cell_type": "markdown",
   "metadata": {},
   "source": [
    "### AutoML TEST"
   ]
  },
  {
   "cell_type": "code",
   "execution_count": 255,
   "metadata": {},
   "outputs": [],
   "source": [
    "train, test = train_test_split(df, test_size=0.3, random_state=seed)\n",
    "X_train, y_train = train.iloc[:,:4], train.iloc[:,4]\n",
    "X_test, y_test = test.iloc[:,:4], test.iloc[:,4]\n",
    "\n",
    "X_train = X_train.to_numpy()\n",
    "X_test = X_test.to_numpy()"
   ]
  },
  {
   "cell_type": "code",
   "execution_count": 256,
   "metadata": {},
   "outputs": [
    {
     "data": {
      "application/vnd.jupyter.widget-view+json": {
       "model_id": "4e8e9136f7134cc2a3e8f4c18693bec6",
       "version_major": 2,
       "version_minor": 0
      },
      "text/plain": [
       "Optimization Progress:   0%|          | 0/300 [00:00<?, ?pipeline/s]"
      ]
     },
     "metadata": {},
     "output_type": "display_data"
    },
    {
     "name": "stdout",
     "output_type": "stream",
     "text": [
      "\n",
      "Generation 1 - Current best internal CV score: -40.47613538832197\n",
      "\n",
      "Generation 2 - Current best internal CV score: -9.828947101526628\n",
      "\n",
      "Generation 3 - Current best internal CV score: -8.673579471970266\n",
      "\n",
      "Generation 4 - Current best internal CV score: -8.673579471970266\n",
      "\n",
      "Generation 5 - Current best internal CV score: -8.673579471970266\n",
      "\n",
      "Best pipeline: AdaBoostRegressor(PCA(input_matrix, iterated_power=5, svd_solver=randomized), learning_rate=0.5, loss=exponential, n_estimators=100)\n",
      "Test set mean squared error: -2.143\n"
     ]
    },
    {
     "name": "stderr",
     "output_type": "stream",
     "text": [
      "c:\\Users\\se99a\\anaconda3\\lib\\site-packages\\sklearn\\metrics\\_scorer.py:794: FutureWarning: sklearn.metrics.SCORERS is deprecated and will be removed in v1.3. Please use sklearn.metrics.get_scorer_names to get a list of available scorers and sklearn.metrics.get_metric to get scorer.\n",
      "  warnings.warn(\n"
     ]
    }
   ],
   "source": [
    "from tpot import TPOTRegressor\n",
    "\n",
    "tpot = TPOTRegressor(generations=5, population_size=50, verbosity=2, random_state=42)\n",
    "tpot.fit(X_train, y_train)\n",
    "\n",
    "# Evaluate the model on the test set\n",
    "mse = tpot.score(X_test, y_test)\n",
    "print('Test set mean squared error: %.3f' % mse)\n",
    "\n",
    "# Export the best pipeline as Python code\n",
    "tpot.export('tpot_best_pipeline.py')"
   ]
  },
  {
   "cell_type": "code",
   "execution_count": 257,
   "metadata": {},
   "outputs": [],
   "source": [
    "y_pred = tpot.predict(X_test)\n",
    "y_pred_train = tpot.predict(X_train)"
   ]
  },
  {
   "cell_type": "code",
   "execution_count": 258,
   "metadata": {},
   "outputs": [
    {
     "data": {
      "text/plain": [
       "array([117.25      ,  84.55      , 103.27142857,  91.3       ,\n",
       "        77.2       ,  76.9       , 117.04      , 102.31111111,\n",
       "        86.44444444,  76.975     ])"
      ]
     },
     "execution_count": 258,
     "metadata": {},
     "output_type": "execute_result"
    }
   ],
   "source": [
    "y_pred"
   ]
  },
  {
   "cell_type": "code",
   "execution_count": 259,
   "metadata": {},
   "outputs": [],
   "source": [
    "idx = list(i for i in range(len(y_pred)))"
   ]
  },
  {
   "cell_type": "code",
   "execution_count": 260,
   "metadata": {},
   "outputs": [],
   "source": [
    "y_test.index = idx\n",
    "y_pred = pd.DataFrame(y_pred)[0]"
   ]
  },
  {
   "cell_type": "code",
   "execution_count": 261,
   "metadata": {},
   "outputs": [
    {
     "data": {
      "text/plain": [
       "0    117.250000\n",
       "1     84.550000\n",
       "2    103.271429\n",
       "3     91.300000\n",
       "4     77.200000\n",
       "5     76.900000\n",
       "6    117.040000\n",
       "7    102.311111\n",
       "8     86.444444\n",
       "9     76.975000\n",
       "Name: 0, dtype: float64"
      ]
     },
     "execution_count": 261,
     "metadata": {},
     "output_type": "execute_result"
    }
   ],
   "source": [
    "y_pred"
   ]
  },
  {
   "cell_type": "code",
   "execution_count": 262,
   "metadata": {},
   "outputs": [
    {
     "data": {
      "text/plain": [
       "<matplotlib.legend.Legend at 0x20d36ed5ed0>"
      ]
     },
     "execution_count": 262,
     "metadata": {},
     "output_type": "execute_result"
    },
    {
     "data": {
      "image/png": "[encoded data removed]",
      "text/plain": [
       "<Figure size 640x480 with 1 Axes>"
      ]
     },
     "metadata": {},
     "output_type": "display_data"
    }
   ],
   "source": [
    "plt.plot(y_test, 'o')\n",
    "plt.plot(y_pred, 'o')\n",
    "#plt.plot(y_train, 'o')\n",
    "#plt.plot(y_pred_train, 'o')\n",
    "plt.legend(['y_test', 'y_pred', 'y_train', 'y_pred_train'])"
   ]
  },
  {
   "attachments": {},
   "cell_type": "markdown",
   "metadata": {},
   "source": [
    "AutoML만 사용하였을 때, 성능 매우 우수함"
   ]
  },
  {
   "cell_type": "code",
   "execution_count": null,
   "metadata": {},
   "outputs": [],
   "source": []
  }
 ],
 "metadata": {
  "kernelspec": {
   "display_name": "base",
   "language": "python",
   "name": "python3"
  },
  "language_info": {
   "codemirror_mode": {
    "name": "ipython",
    "version": 3
   },
   "file_extension": ".py",
   "mimetype": "text/x-python",
   "name": "python",
   "nbconvert_exporter": "python",
   "pygments_lexer": "ipython3",
   "version": "3.10.9"
  },
  "orig_nbformat": 4
 },
 "nbformat": 4,
 "nbformat_minor": 2
}
