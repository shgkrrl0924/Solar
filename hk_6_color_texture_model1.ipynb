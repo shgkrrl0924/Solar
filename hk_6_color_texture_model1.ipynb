{
 "cells": [
  {
   "cell_type": "code",
   "execution_count": null,
   "metadata": {},
   "outputs": [],
   "source": [
    "import pandas as pd\n",
    "import numpy as np\n",
    "from skimage import color\n",
    "from skimage.feature import greycomatrix, greycoprops\n",
    "from PIL import Image\n",
    "import matplotlib.pyplot as plt\n",
    "\n"
   ]
  },
  {
   "attachments": {},
   "cell_type": "markdown",
   "metadata": {},
   "source": [
    "질감 피처로는 Gray-Level Co-occurrence Matrix (GLCM)를 사용할 수 있습니다. GLCM은 이미지 내의 픽셀 간의 밝기 값이 어떻게 함께 나타나는지를 설명하는 통계적 방법으로, 질감 피처를 추출하는데 널리 사용됩니다. GLCM에서는 대표적으로 contrast, dissimilarity, homogeneity, energy, correlation 등의 피처를 계산할 수 있습니다."
   ]
  },
  {
   "cell_type": "code",
   "execution_count": null,
   "metadata": {},
   "outputs": [],
   "source": [
    "thickness_path = \"./data/Thickness.csv\"\n",
    "thickness_df = pd.read_csv(thickness_path)\n",
    "\n",
    "thickness_df.head()"
   ]
  },
  {
   "cell_type": "code",
   "execution_count": null,
   "metadata": {},
   "outputs": [],
   "source": [
    "img_path_list = []\n",
    "Top_path = './data/box_img/Top/'\n",
    "Bot_path = './data/box_img/Bot/'\n",
    "\n",
    "for i in range(1, 33):\n",
    "    for j in range(1, 5):\n",
    "        if i == 9 and j == 1: \n",
    "            continue\n",
    "        img_path_list.append('./data/test_img/AI-{}_0{}_transformed.jpg'.format(i, j))"
   ]
  },
  {
   "cell_type": "code",
   "execution_count": null,
   "metadata": {},
   "outputs": [],
   "source": [
    "top_box = [230:280,500:550]\n",
    "bottom_box = [700:750,500:550]"
   ]
  },
  {
   "cell_type": "code",
   "execution_count": null,
   "metadata": {},
   "outputs": [],
   "source": [
    "def extract_features(box):\n",
    "    # Convert the box to grayscale and rescale to 0-255\n",
    "    gray_box = color.rgb2gray(box)\n",
    "    gray_box = (gray_box * 255).astype(np.uint8)\n",
    "\n",
    "    # Compute color features: mean and std of each channel\n",
    "    mean_rgb = np.mean(box, axis=(0, 1))\n",
    "    std_rgb = np.std(box, axis=(0, 1))\n",
    "\n",
    "    # Compute texture features: properties of GLCM\n",
    "    glcm = greycomatrix(gray_box, distances=[1], angles=[0], levels=256, symmetric=True, normed=True)\n",
    "    contrast = greycoprops(glcm, 'contrast')[0, 0]\n",
    "    dissimilarity = greycoprops(glcm, 'dissimilarity')[0, 0]\n",
    "    homogeneity = greycoprops(glcm, 'homogeneity')[0, 0]\n",
    "    energy = greycoprops(glcm, 'energy')[0, 0]\n",
    "    correlation = greycoprops(glcm, 'correlation')[0, 0]\n",
    "\n",
    "    return [mean_rgb, std_rgb, contrast, dissimilarity, homogeneity, energy, correlation]"
   ]
  },
  {
   "cell_type": "code",
   "execution_count": null,
   "metadata": {},
   "outputs": [],
   "source": [
    "for i in range(len(img_path_list)):\n",
    "    img_path = img_path_list[i]\n",
    "    img = Image.open(img_path)\n",
    "    img = np.array(img)\n",
    "    \n",
    "    top_box = img[230:280,500:550]\n",
    "    bottom_box = img[700:750,500:550]\n",
    "    \n",
    "    top_box = Image.fromarray(top_box)\n",
    "    bottom_box = Image.fromarray(bottom_box)\n",
    "    \n",
    "    top_box.save(Top_path + 'Top_{}.jpg'.format(i))\n",
    "    bottom_box.save(Bot_path + 'Bot_{}.jpg'.format(i))\n",
    "    \n",
    "    # Extract features\n",
    "    top_features = extract_features(top_box)\n",
    "    bottom_features = extract_features(bottom_box)\n",
    "\n",
    "    # Combine into a data frame\n",
    "    features_df = pd.DataFrame([top_features, bottom_features], columns=['Mean RGB', 'Std RGB', 'Contrast', 'Dissimilarity', 'Homogeneity', 'Energy', 'Correlation'])\n",
    "\n",
    "features_df"
   ]
  },
  {
   "cell_type": "code",
   "execution_count": null,
   "metadata": {},
   "outputs": [],
   "source": []
  },
  {
   "cell_type": "code",
   "execution_count": null,
   "metadata": {},
   "outputs": [],
   "source": []
  },
  {
   "cell_type": "code",
   "execution_count": null,
   "metadata": {},
   "outputs": [],
   "source": []
  },
  {
   "cell_type": "code",
   "execution_count": null,
   "metadata": {},
   "outputs": [],
   "source": []
  }
 ],
 "metadata": {
  "language_info": {
   "name": "python"
  },
  "orig_nbformat": 4
 },
 "nbformat": 4,
 "nbformat_minor": 2
}
