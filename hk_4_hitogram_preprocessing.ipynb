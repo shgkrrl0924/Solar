{
 "cells": [
  {
   "cell_type": "code",
   "execution_count": 1,
   "metadata": {},
   "outputs": [],
   "source": [
    "import pandas as pd\n",
    "import numpy as np\n",
    "from PIL import Image \n",
    "import matplotlib.pyplot as plt\n",
    "import os\n",
    "\n",
    "import torch\n",
    "import torch.nn as nn\n",
    "import torch.nn.functional as F\n",
    "import torchvision.transforms as transforms\n",
    "import torchvision.models as models\n",
    "import torch.optim as optim\n",
    "import torchvision\n",
    "from torch.utils.data import Dataset, DataLoader\n",
    "from sklearn.model_selection import train_test_split\n",
    "import cv2"
   ]
  },
  {
   "cell_type": "code",
   "execution_count": 2,
   "metadata": {},
   "outputs": [
    {
     "data": {
      "text/html": [
       "<div>\n",
       "<style scoped>\n",
       "    .dataframe tbody tr th:only-of-type {\n",
       "        vertical-align: middle;\n",
       "    }\n",
       "\n",
       "    .dataframe tbody tr th {\n",
       "        vertical-align: top;\n",
       "    }\n",
       "\n",
       "    .dataframe thead th {\n",
       "        text-align: right;\n",
       "    }\n",
       "</style>\n",
       "<table border=\"1\" class=\"dataframe\">\n",
       "  <thead>\n",
       "    <tr style=\"text-align: right;\">\n",
       "      <th></th>\n",
       "      <th>Thickness</th>\n",
       "    </tr>\n",
       "  </thead>\n",
       "  <tbody>\n",
       "    <tr>\n",
       "      <th>0</th>\n",
       "      <td>48.266667</td>\n",
       "    </tr>\n",
       "    <tr>\n",
       "      <th>1</th>\n",
       "      <td>47.966667</td>\n",
       "    </tr>\n",
       "    <tr>\n",
       "      <th>2</th>\n",
       "      <td>48.166667</td>\n",
       "    </tr>\n",
       "    <tr>\n",
       "      <th>3</th>\n",
       "      <td>48.600000</td>\n",
       "    </tr>\n",
       "    <tr>\n",
       "      <th>4</th>\n",
       "      <td>59.533333</td>\n",
       "    </tr>\n",
       "    <tr>\n",
       "      <th>...</th>\n",
       "      <td>...</td>\n",
       "    </tr>\n",
       "    <tr>\n",
       "      <th>122</th>\n",
       "      <td>84.633333</td>\n",
       "    </tr>\n",
       "    <tr>\n",
       "      <th>123</th>\n",
       "      <td>98.366667</td>\n",
       "    </tr>\n",
       "    <tr>\n",
       "      <th>124</th>\n",
       "      <td>97.033333</td>\n",
       "    </tr>\n",
       "    <tr>\n",
       "      <th>125</th>\n",
       "      <td>96.266667</td>\n",
       "    </tr>\n",
       "    <tr>\n",
       "      <th>126</th>\n",
       "      <td>97.766667</td>\n",
       "    </tr>\n",
       "  </tbody>\n",
       "</table>\n",
       "<p>127 rows × 1 columns</p>\n",
       "</div>"
      ],
      "text/plain": [
       "     Thickness\n",
       "0    48.266667\n",
       "1    47.966667\n",
       "2    48.166667\n",
       "3    48.600000\n",
       "4    59.533333\n",
       "..         ...\n",
       "122  84.633333\n",
       "123  98.366667\n",
       "124  97.033333\n",
       "125  96.266667\n",
       "126  97.766667\n",
       "\n",
       "[127 rows x 1 columns]"
      ]
     },
     "execution_count": 2,
     "metadata": {},
     "output_type": "execute_result"
    }
   ],
   "source": [
    "Thickness = pd.read_csv('./data/Thickness.csv')\n",
    "Thickness = Thickness.drop([33]) # 9-1 drop\n",
    "Thickness.reset_index(drop=True, inplace=True)\n",
    "Thickness"
   ]
  },
  {
   "cell_type": "code",
   "execution_count": 3,
   "metadata": {},
   "outputs": [],
   "source": [
    "def hist_match(source, template):\n",
    "    # 소스 이미지와 템플릿 이미지의 히스토그램과 누적 분포를 계산\n",
    "    source_hist, _ = np.histogram(source.flatten(), bins=256, range=[0,256])\n",
    "    template_hist, _ = np.histogram(template.flatten(), bins=256, range=[0,256])\n",
    "    source_cumulative_hist = source_hist.cumsum()\n",
    "    template_cumulative_hist = template_hist.cumsum()\n",
    "\n",
    "    # # 히스토그램 정규화\n",
    "    # source_cumulative_hist = (source_cumulative_hist - source_cumulative_hist.min()) * 255 / (source_cumulative_hist.max() - source_cumulative_hist.min())\n",
    "    # template_cumulative_hist = (template_cumulative_hist - template_cumulative_hist.min()) * 255 / (template_cumulative_hist.max() - template_cumulative_hist.min())\n",
    "\n",
    "    # 히스토그램 일치화 수행\n",
    "    hist_match = np.interp(source_cumulative_hist, template_cumulative_hist, np.arange(256))\n",
    "\n",
    "    print(type(hist_match))\n",
    "    # 일치화 매핑을 소스 이미지에 적용\n",
    "    matched_image = hist_match[source]\n",
    "    print(type(matched_image))\n",
    "    return matched_image.reshape(source.shape).astype(np.uint8)"
   ]
  },
  {
   "cell_type": "code",
   "execution_count": 4,
   "metadata": {},
   "outputs": [],
   "source": [
    "img_path_list = []\n",
    "Top_path = './data/box_img/Top/'\n",
    "Bot_path = './data/box_img/Bot/'\n",
    "\n",
    "for i in range(1, 33):\n",
    "    for j in range(1, 5):\n",
    "        if i == 9 and j == 1: \n",
    "            continue\n",
    "        img_path_list.append('./data/test_img/AI-{}_0{}_transformed.jpg'.format(i, j))"
   ]
  },
  {
   "cell_type": "code",
   "execution_count": 7,
   "metadata": {},
   "outputs": [],
   "source": [
    "# 첫번째 bot 이미지를 기준 이미지로 설정\n",
    "reference_bot = cv2.cvtColor(np.array(Image.open(Bot_path + 'Bot_0.jpg')), cv2.COLOR_RGB2BGR)\n",
    "reference_bot_hsv = cv2.cvtColor(reference_bot, cv2.COLOR_BGR2HSV)"
   ]
  },
  {
   "cell_type": "code",
   "execution_count": 12,
   "metadata": {},
   "outputs": [],
   "source": [
    "for i in range(len(img_path_list)):\n",
    "    top = cv2.cvtColor(np.array(Image.open(Top_path + 'Top_{}.jpg'.format(i))), cv2.COLOR_RGB2BGR)\n",
    "    bot = cv2.cvtColor(np.array(Image.open(Bot_path + 'Bot_{}.jpg'.format(i))), cv2.COLOR_RGB2BGR)\n",
    "    # 첫 번째 bot 이미지와 각 bot 이미지 사이의 히스토그램 변환을 계산\n",
    "    bot_hsv = cv2.cvtColor(bot, cv2.COLOR_BGR2HSV)\n",
    "    bot_matched = hist_match(bot_hsv[:,:,2], reference_bot_hsv[:,:,2])\n",
    "    # 계산한 히스토그램 변환을 top 이미지에 적용\n",
    "    top_hsv = cv2.cvtColor(top, cv2.COLOR_BGR2HSV)\n",
    "    top_hsv[:,:,2] = hist_match(top_hsv[:,:,2], bot_matched)\n",
    "    top_matched = cv2.cvtColor(top_hsv, cv2.COLOR_HSV2BGR)\n",
    "    # 보정된 top 이미지를 저장\n",
    "    #Image.fromarray(cv2.cvtColor(top_matched, cv2.COLOR_BGR2RGB)).save(os.path.join(Top_path, 'Top_matched_{}.jpg'.format(i)))"
   ]
  }
 ],
 "metadata": {
  "kernelspec": {
   "display_name": "torch2.0",
   "language": "python",
   "name": "python3"
  },
  "language_info": {
   "codemirror_mode": {
    "name": "ipython",
    "version": 3
   },
   "file_extension": ".py",
   "mimetype": "text/x-python",
   "name": "python",
   "nbconvert_exporter": "python",
   "pygments_lexer": "ipython3",
   "version": "3.11.4"
  },
  "orig_nbformat": 4
 },
 "nbformat": 4,
 "nbformat_minor": 2
}
